{
 "cells": [
  {
   "cell_type": "markdown",
   "id": "69b2b077-c88f-4ddb-9bc6-5b9372ce873d",
   "metadata": {},
   "source": [
    "## Importing Libraries"
   ]
  },
  {
   "cell_type": "code",
   "execution_count": 2,
   "id": "89ae0a1e-fbcc-438b-adee-e9a8666195e4",
   "metadata": {},
   "outputs": [],
   "source": [
    "# Import libraries\n",
    "import pandas as pd\n",
    "import numpy as np\n",
    "import os"
   ]
  },
  {
   "cell_type": "markdown",
   "id": "3d6348ae-43af-423a-b0d6-82f594cbaec2",
   "metadata": {},
   "source": [
    "## Working with data types in Python"
   ]
  },
  {
   "cell_type": "markdown",
   "id": "ab23936b-c075-4b1d-92ae-6ef052303369",
   "metadata": {},
   "source": [
    "#### Code 3 different ways of reaching a result of 100 with addition and subtraction"
   ]
  },
  {
   "cell_type": "code",
   "execution_count": 3,
   "id": "dad449e3-4509-4cb7-8759-6425241f1557",
   "metadata": {},
   "outputs": [],
   "source": [
    "x = 5"
   ]
  },
  {
   "cell_type": "code",
   "execution_count": 4,
   "id": "767798fd-0f74-4584-a914-43313cd1cd8a",
   "metadata": {},
   "outputs": [],
   "source": [
    "y = 95"
   ]
  },
  {
   "cell_type": "code",
   "execution_count": 5,
   "id": "bb1cda5b-2c83-4456-a117-905b73c45c60",
   "metadata": {},
   "outputs": [
    {
     "data": {
      "text/plain": [
       "100"
      ]
     },
     "execution_count": 5,
     "metadata": {},
     "output_type": "execute_result"
    }
   ],
   "source": [
    "x + y"
   ]
  },
  {
   "cell_type": "code",
   "execution_count": 6,
   "id": "83c8971e-d347-4141-b539-70d4f94ea3fe",
   "metadata": {},
   "outputs": [],
   "source": [
    "x = 195"
   ]
  },
  {
   "cell_type": "code",
   "execution_count": 7,
   "id": "989e351e-fad9-49bd-9e51-189c1c9c653c",
   "metadata": {},
   "outputs": [
    {
     "data": {
      "text/plain": [
       "100"
      ]
     },
     "execution_count": 7,
     "metadata": {},
     "output_type": "execute_result"
    }
   ],
   "source": [
    "x - y"
   ]
  },
  {
   "cell_type": "code",
   "execution_count": 8,
   "id": "100949a0-5d2b-4b6a-9d41-35f607085158",
   "metadata": {},
   "outputs": [],
   "source": [
    "x = -5"
   ]
  },
  {
   "cell_type": "code",
   "execution_count": 9,
   "id": "0e19ba6c-f177-439f-b757-48c029a0c82b",
   "metadata": {},
   "outputs": [
    {
     "data": {
      "text/plain": [
       "100"
      ]
     },
     "execution_count": 9,
     "metadata": {},
     "output_type": "execute_result"
    }
   ],
   "source": [
    "y - x"
   ]
  },
  {
   "cell_type": "markdown",
   "id": "5a8020d5-5154-41af-8c22-014139223cef",
   "metadata": {},
   "source": [
    "### Code a floating-point variables and divide them by each other"
   ]
  },
  {
   "cell_type": "code",
   "execution_count": 10,
   "id": "e81c38f5-70aa-4159-87c0-9f3c3f646bdf",
   "metadata": {},
   "outputs": [],
   "source": [
    "x = 12.5"
   ]
  },
  {
   "cell_type": "code",
   "execution_count": 11,
   "id": "495c3825-af74-4452-832f-5ca2d095de1b",
   "metadata": {},
   "outputs": [],
   "source": [
    "y= 4.4"
   ]
  },
  {
   "cell_type": "code",
   "execution_count": 12,
   "id": "9edf79b2-0b52-477c-adbd-4a3ac9ec4d91",
   "metadata": {},
   "outputs": [
    {
     "data": {
      "text/plain": [
       "2.840909090909091"
      ]
     },
     "execution_count": 12,
     "metadata": {},
     "output_type": "execute_result"
    }
   ],
   "source": [
    "x/y"
   ]
  },
  {
   "cell_type": "markdown",
   "id": "fd803a4f-c691-4e4b-b53a-4c8887ee5dfb",
   "metadata": {},
   "source": [
    "#### Construct a short word made of separate strings"
   ]
  },
  {
   "cell_type": "code",
   "execution_count": 18,
   "id": "77447997-762d-45c2-8de3-2187aee4d9cc",
   "metadata": {},
   "outputs": [],
   "source": [
    "x = 'Doct'"
   ]
  },
  {
   "cell_type": "code",
   "execution_count": 19,
   "id": "f180bcae-6479-4c1b-9ce5-82bf1ba602b1",
   "metadata": {},
   "outputs": [],
   "source": [
    "y = 'or'"
   ]
  },
  {
   "cell_type": "code",
   "execution_count": 20,
   "id": "87703c36-6c04-4131-8a4b-b71a8403af33",
   "metadata": {},
   "outputs": [
    {
     "data": {
      "text/plain": [
       "'Doctor'"
      ]
     },
     "execution_count": 20,
     "metadata": {},
     "output_type": "execute_result"
    }
   ],
   "source": [
    "x+y"
   ]
  },
  {
   "cell_type": "markdown",
   "id": "d072636f-58f5-4873-ba22-599d10a2ddba",
   "metadata": {},
   "source": [
    "### Construct 2 short sentences made of separate strings"
   ]
  },
  {
   "cell_type": "code",
   "execution_count": 21,
   "id": "5537b251-5e38-4203-bad3-472ac34228c1",
   "metadata": {},
   "outputs": [],
   "source": [
    "x = 'I '"
   ]
  },
  {
   "cell_type": "code",
   "execution_count": 22,
   "id": "a4f79980-b5fc-4dcf-b44a-6697a2b25791",
   "metadata": {},
   "outputs": [],
   "source": [
    "y = 'Love '"
   ]
  },
  {
   "cell_type": "code",
   "execution_count": 23,
   "id": "38815972-c8de-4648-8fa1-5ece93fef28a",
   "metadata": {},
   "outputs": [],
   "source": [
    "z = 'Jesus'"
   ]
  },
  {
   "cell_type": "code",
   "execution_count": 24,
   "id": "58306420-3931-4512-9ed5-d26dd097ed1d",
   "metadata": {},
   "outputs": [
    {
     "data": {
      "text/plain": [
       "'Love I Jesus?'"
      ]
     },
     "execution_count": 24,
     "metadata": {},
     "output_type": "execute_result"
    }
   ],
   "source": [
    "y+x+z+'?'"
   ]
  },
  {
   "cell_type": "code",
   "execution_count": 27,
   "id": "8edeaf6e-9463-4275-afe5-b54a8a111229",
   "metadata": {},
   "outputs": [],
   "source": [
    "x = 'I '"
   ]
  },
  {
   "cell_type": "code",
   "execution_count": 28,
   "id": "9537341a-174c-4a7a-a3e4-eed558e896c6",
   "metadata": {},
   "outputs": [],
   "source": [
    "y = 'am '"
   ]
  },
  {
   "cell_type": "code",
   "execution_count": 32,
   "id": "1a041a42-ce38-425a-be0e-ad6010c6282c",
   "metadata": {},
   "outputs": [],
   "source": [
    "z = 'kind'"
   ]
  },
  {
   "cell_type": "code",
   "execution_count": 34,
   "id": "5a124976-1014-40e5-bc9e-1dc27c8a1354",
   "metadata": {},
   "outputs": [
    {
     "data": {
      "text/plain": [
       "'I am kind.'"
      ]
     },
     "execution_count": 34,
     "metadata": {},
     "output_type": "execute_result"
    }
   ],
   "source": [
    "x+y+z+'.'"
   ]
  },
  {
   "cell_type": "code",
   "execution_count": 35,
   "id": "d5ee41be-2efc-4c80-9343-f784e0454e9c",
   "metadata": {},
   "outputs": [
    {
     "data": {
      "text/plain": [
       "'I am I am I am I am I am I am I am I am I am I am I am I am I am I am I am I am I am I am I am I am I am I am I am I am I am I am I am I am I am I am I am I am I am I am I am I am I am I am I am I am I am I am I am I am I am I am I am I am I am I am I am I am I am I am I am I am I am I am I am I am I am I am I am I am I am I am I am I am I am I am I am I am I am I am I am I am I am I am I am I am I am I am I am I am I am I am I am I am I am I am I am I am I am I am I am I am I am I am I am I am '"
      ]
     },
     "execution_count": 35,
     "metadata": {},
     "output_type": "execute_result"
    }
   ],
   "source": [
    "100*(x+y)"
   ]
  }
 ],
 "metadata": {
  "kernelspec": {
   "display_name": "Python 3 (ipykernel)",
   "language": "python",
   "name": "python3"
  },
  "language_info": {
   "codemirror_mode": {
    "name": "ipython",
    "version": 3
   },
   "file_extension": ".py",
   "mimetype": "text/x-python",
   "name": "python",
   "nbconvert_exporter": "python",
   "pygments_lexer": "ipython3",
   "version": "3.11.7"
  }
 },
 "nbformat": 4,
 "nbformat_minor": 5
}
