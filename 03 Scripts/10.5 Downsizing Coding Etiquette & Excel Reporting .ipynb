{
 "cells": [
  {
   "cell_type": "markdown",
   "id": "e4b43f6d-7b80-41b7-ad0d-af3b15a85bba",
   "metadata": {},
   "source": [
    "### 4.10.5 Downsizing Coding Etiquette & Excel Reporting "
   ]
  },
  {
   "cell_type": "markdown",
   "id": "7a916c41-3b97-453e-80b1-42f7a23ecf8a",
   "metadata": {},
   "source": [
    "### Importing Libraries"
   ]
  },
  {
   "cell_type": "code",
   "execution_count": 1,
   "id": "3bed6730-7d9b-40a4-89e9-8906d0216117",
   "metadata": {},
   "outputs": [],
   "source": [
    "# Import libraries\n",
    "import pandas as pd\n",
    "import numpy as np\n",
    "import os"
   ]
  },
  {
   "cell_type": "markdown",
   "id": "fb7131ca-2d82-4176-9562-a23a88bf0dda",
   "metadata": {},
   "source": [
    "### Setting Path"
   ]
  },
  {
   "cell_type": "code",
   "execution_count": 2,
   "id": "e183d26f-6910-47ff-8b5b-989c4e79dd9d",
   "metadata": {},
   "outputs": [
    {
     "data": {
      "text/plain": [
       "'\\\\Users\\\\edwin\\\\Instacart Basket Analysis'"
      ]
     },
     "execution_count": 2,
     "metadata": {},
     "output_type": "execute_result"
    }
   ],
   "source": [
    "path = r'\\Users\\edwin\\Instacart Basket Analysis'\n",
    "path"
   ]
  },
  {
   "cell_type": "markdown",
   "id": "255d95c8-1853-4552-8895-9b1e1f33b606",
   "metadata": {},
   "source": [
    "#### Importing the Data"
   ]
  },
  {
   "cell_type": "code",
   "execution_count": 4,
   "id": "25b88d09-f41a-4936-bdf7-09f0db830336",
   "metadata": {},
   "outputs": [],
   "source": [
    "# Load your sampled data\n",
    "ords_prods_all_in = pd.read_pickle(os.path.join(path, '02 Data', 'Prepared Data', 'high_activity_customers.pkl'))\n"
   ]
  },
  {
   "cell_type": "code",
   "execution_count": 5,
   "id": "957f95b4-785a-4ebf-8d2e-81705b36fe82",
   "metadata": {},
   "outputs": [
    {
     "data": {
      "text/plain": [
       "Index(['product_id', 'product_name', 'aisle_id', 'department_id', 'prices',\n",
       "       'order_id', 'user_id', 'order_number', 'orders_day_of_week',\n",
       "       'order_time_of_day', 'days_since_prior_order', 'first_order',\n",
       "       'add_to_cart_order', 'reordered', 'existing_merge', 'merge_1',\n",
       "       'price_range_loc', 'busiest_day', 'busiest_days',\n",
       "       'busiest_period_of_day', 'max_order', 'loyalty_flag',\n",
       "       'mean_product_price', 'spending_flag', 'customer_frequency',\n",
       "       'frequency_flag', 'First Name', 'Surnam', 'Gender', 'state', 'Age',\n",
       "       'date_joined', 'n_dependants', 'fam_status', 'income', 'merge_2',\n",
       "       'region', 'exclusion_flag'],\n",
       "      dtype='object')"
      ]
     },
     "execution_count": 5,
     "metadata": {},
     "output_type": "execute_result"
    }
   ],
   "source": [
    "# Check columns\n",
    "ords_prods_all_in.columns"
   ]
  },
  {
   "cell_type": "code",
   "execution_count": 6,
   "id": "9dd1ec5e-4f8d-4cc3-921f-8032bced4475",
   "metadata": {},
   "outputs": [
    {
     "data": {
      "text/plain": [
       "Index(['department_id', 'prices', 'order_id', 'user_id', 'orders_day_of_week',\n",
       "       'order_time_of_day', 'days_since_prior_order', 'first_order',\n",
       "       'reordered', 'existing_merge', 'merge_1', 'price_range_loc',\n",
       "       'busiest_day', 'busiest_days', 'busiest_period_of_day', 'max_order',\n",
       "       'loyalty_flag', 'mean_product_price', 'spending_flag',\n",
       "       'customer_frequency', 'frequency_flag', 'First Name', 'Surnam',\n",
       "       'Gender', 'state', 'Age', 'date_joined', 'n_dependants', 'fam_status',\n",
       "       'income', 'merge_2', 'region', 'exclusion_flag'],\n",
       "      dtype='object')"
      ]
     },
     "execution_count": 6,
     "metadata": {},
     "output_type": "execute_result"
    }
   ],
   "source": [
    "# Drop specific columns\n",
    "columns_to_drop = ['order_number', 'product_id', 'add_to_cart_order', 'product_name', 'aisle_id']\n",
    "df_dropped = ords_prods_all_in.drop(columns=columns_to_drop)\n",
    "df_dropped.columns"
   ]
  },
  {
   "cell_type": "code",
   "execution_count": 7,
   "id": "914662c1-71ff-4498-83b8-edb1a51414f0",
   "metadata": {},
   "outputs": [],
   "source": [
    "df = df_dropped\n"
   ]
  },
  {
   "cell_type": "code",
   "execution_count": 8,
   "id": "8c64115a-eb05-4d85-93e4-adbed8c526cf",
   "metadata": {},
   "outputs": [],
   "source": [
    "# Creating a randomized list\n",
    "np.random.seed(4)\n",
    "dev = np.random.rand(len(df)) <= 0.6"
   ]
  },
  {
   "cell_type": "code",
   "execution_count": 9,
   "id": "a9438261-99de-4727-bc28-3068d0bdc80e",
   "metadata": {},
   "outputs": [],
   "source": [
    "# Store 60% of the sample in dataframe big\n",
    "big = df[dev] \n",
    "\n",
    "# Store 40% of the sample in dataframe small\n",
    "small = df[~dev]\n"
   ]
  },
  {
   "cell_type": "code",
   "execution_count": 10,
   "id": "3f70863a-5250-48c6-9463-8acad9199948",
   "metadata": {},
   "outputs": [
    {
     "name": "stdout",
     "output_type": "stream",
     "text": [
      "Total size: 30964564\n",
      "Size of 'big': 18579523\n",
      "Size of 'small': 12385041\n"
     ]
    }
   ],
   "source": [
    "# Check sizes\n",
    "print(\"Total size:\", len(df))\n",
    "print(\"Size of 'big':\", len(big))\n",
    "print(\"Size of 'small':\", len(small))\n"
   ]
  },
  {
   "cell_type": "code",
   "execution_count": 15,
   "id": "873df50c-4362-4d70-9f20-38094b33ce59",
   "metadata": {},
   "outputs": [],
   "source": [
    "# Use 'small' as the downsampled DataFrame\n",
    "ords_prods_all_in_small = small\n"
   ]
  },
  {
   "cell_type": "code",
   "execution_count": 16,
   "id": "c681ba81-9249-44eb-8016-df83262055a8",
   "metadata": {},
   "outputs": [
    {
     "name": "stdout",
     "output_type": "stream",
     "text": [
      "(12385041, 33)\n"
     ]
    }
   ],
   "source": [
    "# Check the shape of the smaller DataFrame\n",
    "print(ords_prods_all_in_small.shape)"
   ]
  },
  {
   "cell_type": "code",
   "execution_count": 17,
   "id": "376ddce7-b702-4bea-ad35-1b1d95f58d2d",
   "metadata": {},
   "outputs": [
    {
     "name": "stdout",
     "output_type": "stream",
     "text": [
      "<class 'pandas.core.frame.DataFrame'>\n",
      "Index: 30964564 entries, 0 to 32404858\n",
      "Data columns (total 38 columns):\n",
      " #   Column                  Dtype   \n",
      "---  ------                  -----   \n",
      " 0   product_id              int32   \n",
      " 1   product_name            category\n",
      " 2   aisle_id                int16   \n",
      " 3   department_id           int16   \n",
      " 4   prices                  float32 \n",
      " 5   order_id                int32   \n",
      " 6   user_id                 int32   \n",
      " 7   order_number            int32   \n",
      " 8   orders_day_of_week      int8    \n",
      " 9   order_time_of_day       int8    \n",
      " 10  days_since_prior_order  float32 \n",
      " 11  first_order             int8    \n",
      " 12  add_to_cart_order       int16   \n",
      " 13  reordered               int8    \n",
      " 14  existing_merge          category\n",
      " 15  merge_1                 category\n",
      " 16  price_range_loc         category\n",
      " 17  busiest_day             category\n",
      " 18  busiest_days            category\n",
      " 19  busiest_period_of_day   category\n",
      " 20  max_order               int32   \n",
      " 21  loyalty_flag            category\n",
      " 22  mean_product_price      float32 \n",
      " 23  spending_flag           category\n",
      " 24  customer_frequency      float32 \n",
      " 25  frequency_flag          category\n",
      " 26  First Name              object  \n",
      " 27  Surnam                  object  \n",
      " 28  Gender                  object  \n",
      " 29  state                   object  \n",
      " 30  Age                     int64   \n",
      " 31  date_joined             object  \n",
      " 32  n_dependants            int64   \n",
      " 33  fam_status              object  \n",
      " 34  income                  int64   \n",
      " 35  merge_2                 category\n",
      " 36  region                  object  \n",
      " 37  exclusion_flag          object  \n",
      "dtypes: category(11), float32(4), int16(3), int32(5), int64(3), int8(4), object(8)\n",
      "memory usage: 4.5+ GB\n"
     ]
    }
   ],
   "source": [
    "ords_prods_all_in.info()"
   ]
  },
  {
   "cell_type": "code",
   "execution_count": 19,
   "id": "51de28e8-7285-408c-972b-df604ae907b4",
   "metadata": {},
   "outputs": [
    {
     "name": "stdout",
     "output_type": "stream",
     "text": [
      "<class 'pandas.core.frame.DataFrame'>\n",
      "Index: 30964564 entries, 0 to 32404858\n",
      "Data columns (total 38 columns):\n",
      " #   Column                  Dtype   \n",
      "---  ------                  -----   \n",
      " 0   product_id              int32   \n",
      " 1   product_name            category\n",
      " 2   aisle_id                int16   \n",
      " 3   department_id           int16   \n",
      " 4   prices                  float32 \n",
      " 5   order_id                int32   \n",
      " 6   user_id                 int32   \n",
      " 7   order_number            int8    \n",
      " 8   orders_day_of_week      int8    \n",
      " 9   order_time_of_day       int8    \n",
      " 10  days_since_prior_order  float32 \n",
      " 11  first_order             int8    \n",
      " 12  add_to_cart_order       int16   \n",
      " 13  reordered               int8    \n",
      " 14  existing_merge          category\n",
      " 15  merge_1                 category\n",
      " 16  price_range_loc         category\n",
      " 17  busiest_day             category\n",
      " 18  busiest_days            category\n",
      " 19  busiest_period_of_day   category\n",
      " 20  max_order               int8    \n",
      " 21  loyalty_flag            category\n",
      " 22  mean_product_price      float32 \n",
      " 23  spending_flag           category\n",
      " 24  customer_frequency      float32 \n",
      " 25  frequency_flag          category\n",
      " 26  First Name              object  \n",
      " 27  Surnam                  object  \n",
      " 28  Gender                  object  \n",
      " 29  state                   object  \n",
      " 30  Age                     int8    \n",
      " 31  date_joined             object  \n",
      " 32  n_dependants            int8    \n",
      " 33  fam_status              object  \n",
      " 34  income                  int32   \n",
      " 35  merge_2                 category\n",
      " 36  region                  object  \n",
      " 37  exclusion_flag          object  \n",
      "dtypes: category(11), float32(4), int16(3), int32(4), int8(8), object(8)\n",
      "memory usage: 3.8+ GB\n",
      "None\n"
     ]
    }
   ],
   "source": [
    "# Example: Downcast numeric columns\n",
    "numeric_cols = ords_prods_all_in.select_dtypes(include=['int', 'float']).columns\n",
    "ords_prods_all_in[numeric_cols] = ords_prods_all_in[numeric_cols].apply(pd.to_numeric, downcast='integer')\n",
    "\n",
    "# Check the data types\n",
    "print(ords_prods_all_in.info())\n"
   ]
  },
  {
   "cell_type": "code",
   "execution_count": 20,
   "id": "cad4c03b-c4f6-4e1a-a3b6-a1a190210709",
   "metadata": {},
   "outputs": [
    {
     "name": "stdout",
     "output_type": "stream",
     "text": [
      "<class 'pandas.core.frame.DataFrame'>\n",
      "Index: 30964564 entries, 0 to 32404858\n",
      "Data columns (total 38 columns):\n",
      " #   Column                  Dtype   \n",
      "---  ------                  -----   \n",
      " 0   product_id              int32   \n",
      " 1   product_name            category\n",
      " 2   aisle_id                int16   \n",
      " 3   department_id           int16   \n",
      " 4   prices                  float32 \n",
      " 5   order_id                int32   \n",
      " 6   user_id                 int32   \n",
      " 7   order_number            int8    \n",
      " 8   orders_day_of_week      int8    \n",
      " 9   order_time_of_day       int8    \n",
      " 10  days_since_prior_order  float32 \n",
      " 11  first_order             int8    \n",
      " 12  add_to_cart_order       int16   \n",
      " 13  reordered               int8    \n",
      " 14  existing_merge          category\n",
      " 15  merge_1                 category\n",
      " 16  price_range_loc         category\n",
      " 17  busiest_day             category\n",
      " 18  busiest_days            category\n",
      " 19  busiest_period_of_day   category\n",
      " 20  max_order               int8    \n",
      " 21  loyalty_flag            category\n",
      " 22  mean_product_price      float32 \n",
      " 23  spending_flag           category\n",
      " 24  customer_frequency      float32 \n",
      " 25  frequency_flag          category\n",
      " 26  First Name              category\n",
      " 27  Surnam                  category\n",
      " 28  Gender                  category\n",
      " 29  state                   category\n",
      " 30  Age                     int8    \n",
      " 31  date_joined             category\n",
      " 32  n_dependants            int8    \n",
      " 33  fam_status              category\n",
      " 34  income                  int32   \n",
      " 35  merge_2                 category\n",
      " 36  region                  category\n",
      " 37  exclusion_flag          category\n",
      "dtypes: category(19), float32(4), int16(3), int32(4), int8(8)\n",
      "memory usage: 2.3 GB\n",
      "None\n"
     ]
    }
   ],
   "source": [
    "# Example: Convert object columns to categorical if they have limited unique values\n",
    "object_cols = ords_prods_all_in.select_dtypes(include=['object']).columns\n",
    "for col in object_cols:\n",
    "    if len(ords_prods_all_in[col].unique()) < len(ords_prods_all_in) * 0.5:  # Adjust threshold as needed\n",
    "        ords_prods_all_in[col] = ords_prods_all_in[col].astype('category')\n",
    "\n",
    "# Check the data types\n",
    "print(ords_prods_all_in.info())"
   ]
  },
  {
   "cell_type": "markdown",
   "id": "ebd4d7c3-8805-495c-9bb9-2cc68460f003",
   "metadata": {},
   "source": [
    "### Export Dataframe"
   ]
  },
  {
   "cell_type": "code",
   "execution_count": 21,
   "id": "ab4cdabf-e99b-4d09-a85f-650e52ea793b",
   "metadata": {},
   "outputs": [],
   "source": [
    "# Export the smaller dataframe\n",
    "small.to_pickle(os.path.join(path, '02 Data', 'Prepared Data', 'high_activity_customers_small.pkl'))\n"
   ]
  },
  {
   "cell_type": "code",
   "execution_count": null,
   "id": "b24c005a-646e-4932-8a4f-5831b27dd48b",
   "metadata": {},
   "outputs": [],
   "source": []
  }
 ],
 "metadata": {
  "kernelspec": {
   "display_name": "Python 3 (ipykernel)",
   "language": "python",
   "name": "python3"
  },
  "language_info": {
   "codemirror_mode": {
    "name": "ipython",
    "version": 3
   },
   "file_extension": ".py",
   "mimetype": "text/x-python",
   "name": "python",
   "nbconvert_exporter": "python",
   "pygments_lexer": "ipython3",
   "version": "3.11.7"
  }
 },
 "nbformat": 4,
 "nbformat_minor": 5
}
