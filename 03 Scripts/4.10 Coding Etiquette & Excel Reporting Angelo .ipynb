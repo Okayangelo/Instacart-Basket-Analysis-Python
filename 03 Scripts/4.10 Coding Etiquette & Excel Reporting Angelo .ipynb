{
 "cells": [
  {
   "cell_type": "markdown",
   "id": "ea9ecfe9-b358-4fef-be92-56df5416170b",
   "metadata": {},
   "source": [
    "## 4.1 0Coding Etiquette & Excel Reporting "
   ]
  },
  {
   "cell_type": "markdown",
   "id": "c4d196ba-6804-4da9-8544-5ab4d3e99a39",
   "metadata": {},
   "source": [
    "### Importing Libraries"
   ]
  },
  {
   "cell_type": "code",
   "execution_count": 1,
   "id": "f6b0c521-2480-47c9-8541-f57fb3111cc6",
   "metadata": {},
   "outputs": [],
   "source": [
    "# Import libraries\n",
    "import pandas as pd\n",
    "import numpy as np\n",
    "import os\n",
    "import gc"
   ]
  },
  {
   "cell_type": "markdown",
   "id": "0f0b19a7-0e46-4646-bc33-9ec57e666f6f",
   "metadata": {},
   "source": [
    "### Setting Path"
   ]
  },
  {
   "cell_type": "code",
   "execution_count": 2,
   "id": "6e483934-c47f-4560-aed5-8680178ce80f",
   "metadata": {},
   "outputs": [
    {
     "data": {
      "text/plain": [
       "'\\\\Users\\\\edwin\\\\Instacart Basket Analysis'"
      ]
     },
     "execution_count": 2,
     "metadata": {},
     "output_type": "execute_result"
    }
   ],
   "source": [
    "path = r'\\Users\\edwin\\Instacart Basket Analysis'\n",
    "path"
   ]
  },
  {
   "cell_type": "markdown",
   "id": "248e84d2-858f-48f6-bc58-4b4f3647de5a",
   "metadata": {},
   "source": [
    "#### Importing the Data"
   ]
  },
  {
   "cell_type": "code",
   "execution_count": 3,
   "id": "b19bb5fa-52c9-420f-bdae-68c06ff4848a",
   "metadata": {},
   "outputs": [],
   "source": [
    "# Load the merged dataset\n",
    "ords_prods_all = pd.read_pickle(os.path.join(path, '02 Data', 'Prepared Data', 'orders_products_customers.pkl'))"
   ]
  },
  {
   "cell_type": "code",
   "execution_count": 4,
   "id": "7bc09560-d62c-4293-9da7-4248b2e6e28c",
   "metadata": {},
   "outputs": [
    {
     "data": {
      "text/html": [
       "<div>\n",
       "<style scoped>\n",
       "    .dataframe tbody tr th:only-of-type {\n",
       "        vertical-align: middle;\n",
       "    }\n",
       "\n",
       "    .dataframe tbody tr th {\n",
       "        vertical-align: top;\n",
       "    }\n",
       "\n",
       "    .dataframe thead th {\n",
       "        text-align: right;\n",
       "    }\n",
       "</style>\n",
       "<table border=\"1\" class=\"dataframe\">\n",
       "  <thead>\n",
       "    <tr style=\"text-align: right;\">\n",
       "      <th></th>\n",
       "      <th>product_id</th>\n",
       "      <th>product_name</th>\n",
       "      <th>aisle_id</th>\n",
       "      <th>department_id</th>\n",
       "      <th>prices</th>\n",
       "      <th>order_id</th>\n",
       "      <th>user_id</th>\n",
       "      <th>order_number</th>\n",
       "      <th>orders_day_of_week</th>\n",
       "      <th>order_time_of_day</th>\n",
       "      <th>...</th>\n",
       "      <th>First Name</th>\n",
       "      <th>Surnam</th>\n",
       "      <th>Gender</th>\n",
       "      <th>STATE</th>\n",
       "      <th>Age</th>\n",
       "      <th>date_joined</th>\n",
       "      <th>n_dependants</th>\n",
       "      <th>fam_status</th>\n",
       "      <th>income</th>\n",
       "      <th>merge_2</th>\n",
       "    </tr>\n",
       "  </thead>\n",
       "  <tbody>\n",
       "    <tr>\n",
       "      <th>0</th>\n",
       "      <td>1</td>\n",
       "      <td>Chocolate Sandwich Cookies</td>\n",
       "      <td>61</td>\n",
       "      <td>19</td>\n",
       "      <td>5.8</td>\n",
       "      <td>3139998</td>\n",
       "      <td>138</td>\n",
       "      <td>28</td>\n",
       "      <td>6</td>\n",
       "      <td>11</td>\n",
       "      <td>...</td>\n",
       "      <td>Charles</td>\n",
       "      <td>Cox</td>\n",
       "      <td>Male</td>\n",
       "      <td>Minnesota</td>\n",
       "      <td>81</td>\n",
       "      <td>8/1/2019</td>\n",
       "      <td>1</td>\n",
       "      <td>married</td>\n",
       "      <td>49620</td>\n",
       "      <td>both</td>\n",
       "    </tr>\n",
       "    <tr>\n",
       "      <th>1</th>\n",
       "      <td>1</td>\n",
       "      <td>Chocolate Sandwich Cookies</td>\n",
       "      <td>61</td>\n",
       "      <td>19</td>\n",
       "      <td>5.8</td>\n",
       "      <td>1977647</td>\n",
       "      <td>138</td>\n",
       "      <td>30</td>\n",
       "      <td>6</td>\n",
       "      <td>17</td>\n",
       "      <td>...</td>\n",
       "      <td>Charles</td>\n",
       "      <td>Cox</td>\n",
       "      <td>Male</td>\n",
       "      <td>Minnesota</td>\n",
       "      <td>81</td>\n",
       "      <td>8/1/2019</td>\n",
       "      <td>1</td>\n",
       "      <td>married</td>\n",
       "      <td>49620</td>\n",
       "      <td>both</td>\n",
       "    </tr>\n",
       "    <tr>\n",
       "      <th>2</th>\n",
       "      <td>1</td>\n",
       "      <td>Chocolate Sandwich Cookies</td>\n",
       "      <td>61</td>\n",
       "      <td>19</td>\n",
       "      <td>5.8</td>\n",
       "      <td>389851</td>\n",
       "      <td>709</td>\n",
       "      <td>2</td>\n",
       "      <td>0</td>\n",
       "      <td>21</td>\n",
       "      <td>...</td>\n",
       "      <td>Deborah</td>\n",
       "      <td>Glass</td>\n",
       "      <td>Female</td>\n",
       "      <td>Vermont</td>\n",
       "      <td>66</td>\n",
       "      <td>6/16/2018</td>\n",
       "      <td>2</td>\n",
       "      <td>married</td>\n",
       "      <td>158302</td>\n",
       "      <td>both</td>\n",
       "    </tr>\n",
       "    <tr>\n",
       "      <th>3</th>\n",
       "      <td>1</td>\n",
       "      <td>Chocolate Sandwich Cookies</td>\n",
       "      <td>61</td>\n",
       "      <td>19</td>\n",
       "      <td>5.8</td>\n",
       "      <td>652770</td>\n",
       "      <td>764</td>\n",
       "      <td>1</td>\n",
       "      <td>3</td>\n",
       "      <td>13</td>\n",
       "      <td>...</td>\n",
       "      <td>Heather</td>\n",
       "      <td>Myers</td>\n",
       "      <td>Female</td>\n",
       "      <td>Wisconsin</td>\n",
       "      <td>40</td>\n",
       "      <td>2/9/2020</td>\n",
       "      <td>3</td>\n",
       "      <td>married</td>\n",
       "      <td>31308</td>\n",
       "      <td>both</td>\n",
       "    </tr>\n",
       "    <tr>\n",
       "      <th>4</th>\n",
       "      <td>1</td>\n",
       "      <td>Chocolate Sandwich Cookies</td>\n",
       "      <td>61</td>\n",
       "      <td>19</td>\n",
       "      <td>5.8</td>\n",
       "      <td>1813452</td>\n",
       "      <td>764</td>\n",
       "      <td>3</td>\n",
       "      <td>4</td>\n",
       "      <td>17</td>\n",
       "      <td>...</td>\n",
       "      <td>Heather</td>\n",
       "      <td>Myers</td>\n",
       "      <td>Female</td>\n",
       "      <td>Wisconsin</td>\n",
       "      <td>40</td>\n",
       "      <td>2/9/2020</td>\n",
       "      <td>3</td>\n",
       "      <td>married</td>\n",
       "      <td>31308</td>\n",
       "      <td>both</td>\n",
       "    </tr>\n",
       "  </tbody>\n",
       "</table>\n",
       "<p>5 rows × 36 columns</p>\n",
       "</div>"
      ],
      "text/plain": [
       "   product_id                product_name  aisle_id  department_id  prices  \\\n",
       "0           1  Chocolate Sandwich Cookies        61             19     5.8   \n",
       "1           1  Chocolate Sandwich Cookies        61             19     5.8   \n",
       "2           1  Chocolate Sandwich Cookies        61             19     5.8   \n",
       "3           1  Chocolate Sandwich Cookies        61             19     5.8   \n",
       "4           1  Chocolate Sandwich Cookies        61             19     5.8   \n",
       "\n",
       "   order_id  user_id  order_number  orders_day_of_week  order_time_of_day  \\\n",
       "0   3139998      138            28                   6                 11   \n",
       "1   1977647      138            30                   6                 17   \n",
       "2    389851      709             2                   0                 21   \n",
       "3    652770      764             1                   3                 13   \n",
       "4   1813452      764             3                   4                 17   \n",
       "\n",
       "   ...  First Name  Surnam  Gender      STATE Age date_joined n_dependants  \\\n",
       "0  ...     Charles     Cox    Male  Minnesota  81    8/1/2019            1   \n",
       "1  ...     Charles     Cox    Male  Minnesota  81    8/1/2019            1   \n",
       "2  ...     Deborah   Glass  Female    Vermont  66   6/16/2018            2   \n",
       "3  ...     Heather   Myers  Female  Wisconsin  40    2/9/2020            3   \n",
       "4  ...     Heather   Myers  Female  Wisconsin  40    2/9/2020            3   \n",
       "\n",
       "  fam_status  income merge_2  \n",
       "0    married   49620    both  \n",
       "1    married   49620    both  \n",
       "2    married  158302    both  \n",
       "3    married   31308    both  \n",
       "4    married   31308    both  \n",
       "\n",
       "[5 rows x 36 columns]"
      ]
     },
     "execution_count": 4,
     "metadata": {},
     "output_type": "execute_result"
    }
   ],
   "source": [
    "ords_prods_all.head()"
   ]
  },
  {
   "cell_type": "code",
   "execution_count": 5,
   "id": "dd7c18cc-5bc2-4bd5-b3f9-059a9ea7051d",
   "metadata": {},
   "outputs": [
    {
     "name": "stdout",
     "output_type": "stream",
     "text": [
      "Index(['product_id', 'product_name', 'aisle_id', 'department_id', 'prices',\n",
      "       'order_id', 'user_id', 'order_number', 'orders_day_of_week',\n",
      "       'order_time_of_day', 'days_since_prior_order', 'first_order',\n",
      "       'add_to_cart_order', 'reordered', 'existing_merge', 'merge_1',\n",
      "       'price_range_loc', 'busiest_day', 'busiest_days',\n",
      "       'busiest_period_of_day', 'max_order', 'loyalty_flag',\n",
      "       'mean_product_price', 'spending_flag', 'customer_frequency',\n",
      "       'frequency_flag', 'First Name', 'Surnam', 'Gender', 'STATE', 'Age',\n",
      "       'date_joined', 'n_dependants', 'fam_status', 'income', 'merge_2'],\n",
      "      dtype='object')\n"
     ]
    }
   ],
   "source": [
    "print(ords_prods_all.columns)"
   ]
  },
  {
   "cell_type": "code",
   "execution_count": 6,
   "id": "8da46fe8-d246-430d-877c-06090991639e",
   "metadata": {},
   "outputs": [],
   "source": [
    "ords_prods_all.rename(columns={'STATE': 'state'}, inplace=True)"
   ]
  },
  {
   "cell_type": "code",
   "execution_count": 7,
   "id": "db084df2-575a-4819-b68a-39d8ce29f950",
   "metadata": {},
   "outputs": [
    {
     "name": "stdout",
     "output_type": "stream",
     "text": [
      "Index(['product_id', 'product_name', 'aisle_id', 'department_id', 'prices',\n",
      "       'order_id', 'user_id', 'order_number', 'orders_day_of_week',\n",
      "       'order_time_of_day', 'days_since_prior_order', 'first_order',\n",
      "       'add_to_cart_order', 'reordered', 'existing_merge', 'merge_1',\n",
      "       'price_range_loc', 'busiest_day', 'busiest_days',\n",
      "       'busiest_period_of_day', 'max_order', 'loyalty_flag',\n",
      "       'mean_product_price', 'spending_flag', 'customer_frequency',\n",
      "       'frequency_flag', 'First Name', 'Surnam', 'Gender', 'state', 'Age',\n",
      "       'date_joined', 'n_dependants', 'fam_status', 'income', 'merge_2'],\n",
      "      dtype='object')\n"
     ]
    }
   ],
   "source": [
    "print(ords_prods_all.columns)"
   ]
  },
  {
   "cell_type": "markdown",
   "id": "ad2e5e1e-b1bb-475a-b96a-ceab6ded6ac0",
   "metadata": {},
   "source": [
    "### 2 Address security implications"
   ]
  },
  {
   "cell_type": "code",
   "execution_count": 8,
   "id": "2b7a6ae4-7733-492a-8fd5-ea0e5b7b428e",
   "metadata": {},
   "outputs": [
    {
     "data": {
      "text/html": [
       "<div>\n",
       "<style scoped>\n",
       "    .dataframe tbody tr th:only-of-type {\n",
       "        vertical-align: middle;\n",
       "    }\n",
       "\n",
       "    .dataframe tbody tr th {\n",
       "        vertical-align: top;\n",
       "    }\n",
       "\n",
       "    .dataframe thead th {\n",
       "        text-align: right;\n",
       "    }\n",
       "</style>\n",
       "<table border=\"1\" class=\"dataframe\">\n",
       "  <thead>\n",
       "    <tr style=\"text-align: right;\">\n",
       "      <th></th>\n",
       "      <th>product_id</th>\n",
       "      <th>product_name</th>\n",
       "      <th>aisle_id</th>\n",
       "      <th>department_id</th>\n",
       "      <th>prices</th>\n",
       "      <th>order_id</th>\n",
       "      <th>user_id</th>\n",
       "      <th>order_number</th>\n",
       "      <th>orders_day_of_week</th>\n",
       "      <th>order_time_of_day</th>\n",
       "      <th>...</th>\n",
       "      <th>First Name</th>\n",
       "      <th>Surnam</th>\n",
       "      <th>Gender</th>\n",
       "      <th>state</th>\n",
       "      <th>Age</th>\n",
       "      <th>date_joined</th>\n",
       "      <th>n_dependants</th>\n",
       "      <th>fam_status</th>\n",
       "      <th>income</th>\n",
       "      <th>merge_2</th>\n",
       "    </tr>\n",
       "  </thead>\n",
       "  <tbody>\n",
       "    <tr>\n",
       "      <th>0</th>\n",
       "      <td>1</td>\n",
       "      <td>Chocolate Sandwich Cookies</td>\n",
       "      <td>61</td>\n",
       "      <td>19</td>\n",
       "      <td>5.8</td>\n",
       "      <td>3139998</td>\n",
       "      <td>138</td>\n",
       "      <td>28</td>\n",
       "      <td>6</td>\n",
       "      <td>11</td>\n",
       "      <td>...</td>\n",
       "      <td>Charles</td>\n",
       "      <td>Cox</td>\n",
       "      <td>Male</td>\n",
       "      <td>Minnesota</td>\n",
       "      <td>81</td>\n",
       "      <td>8/1/2019</td>\n",
       "      <td>1</td>\n",
       "      <td>married</td>\n",
       "      <td>49620</td>\n",
       "      <td>both</td>\n",
       "    </tr>\n",
       "    <tr>\n",
       "      <th>1</th>\n",
       "      <td>1</td>\n",
       "      <td>Chocolate Sandwich Cookies</td>\n",
       "      <td>61</td>\n",
       "      <td>19</td>\n",
       "      <td>5.8</td>\n",
       "      <td>1977647</td>\n",
       "      <td>138</td>\n",
       "      <td>30</td>\n",
       "      <td>6</td>\n",
       "      <td>17</td>\n",
       "      <td>...</td>\n",
       "      <td>Charles</td>\n",
       "      <td>Cox</td>\n",
       "      <td>Male</td>\n",
       "      <td>Minnesota</td>\n",
       "      <td>81</td>\n",
       "      <td>8/1/2019</td>\n",
       "      <td>1</td>\n",
       "      <td>married</td>\n",
       "      <td>49620</td>\n",
       "      <td>both</td>\n",
       "    </tr>\n",
       "    <tr>\n",
       "      <th>2</th>\n",
       "      <td>1</td>\n",
       "      <td>Chocolate Sandwich Cookies</td>\n",
       "      <td>61</td>\n",
       "      <td>19</td>\n",
       "      <td>5.8</td>\n",
       "      <td>389851</td>\n",
       "      <td>709</td>\n",
       "      <td>2</td>\n",
       "      <td>0</td>\n",
       "      <td>21</td>\n",
       "      <td>...</td>\n",
       "      <td>Deborah</td>\n",
       "      <td>Glass</td>\n",
       "      <td>Female</td>\n",
       "      <td>Vermont</td>\n",
       "      <td>66</td>\n",
       "      <td>6/16/2018</td>\n",
       "      <td>2</td>\n",
       "      <td>married</td>\n",
       "      <td>158302</td>\n",
       "      <td>both</td>\n",
       "    </tr>\n",
       "    <tr>\n",
       "      <th>3</th>\n",
       "      <td>1</td>\n",
       "      <td>Chocolate Sandwich Cookies</td>\n",
       "      <td>61</td>\n",
       "      <td>19</td>\n",
       "      <td>5.8</td>\n",
       "      <td>652770</td>\n",
       "      <td>764</td>\n",
       "      <td>1</td>\n",
       "      <td>3</td>\n",
       "      <td>13</td>\n",
       "      <td>...</td>\n",
       "      <td>Heather</td>\n",
       "      <td>Myers</td>\n",
       "      <td>Female</td>\n",
       "      <td>Wisconsin</td>\n",
       "      <td>40</td>\n",
       "      <td>2/9/2020</td>\n",
       "      <td>3</td>\n",
       "      <td>married</td>\n",
       "      <td>31308</td>\n",
       "      <td>both</td>\n",
       "    </tr>\n",
       "    <tr>\n",
       "      <th>4</th>\n",
       "      <td>1</td>\n",
       "      <td>Chocolate Sandwich Cookies</td>\n",
       "      <td>61</td>\n",
       "      <td>19</td>\n",
       "      <td>5.8</td>\n",
       "      <td>1813452</td>\n",
       "      <td>764</td>\n",
       "      <td>3</td>\n",
       "      <td>4</td>\n",
       "      <td>17</td>\n",
       "      <td>...</td>\n",
       "      <td>Heather</td>\n",
       "      <td>Myers</td>\n",
       "      <td>Female</td>\n",
       "      <td>Wisconsin</td>\n",
       "      <td>40</td>\n",
       "      <td>2/9/2020</td>\n",
       "      <td>3</td>\n",
       "      <td>married</td>\n",
       "      <td>31308</td>\n",
       "      <td>both</td>\n",
       "    </tr>\n",
       "  </tbody>\n",
       "</table>\n",
       "<p>5 rows × 36 columns</p>\n",
       "</div>"
      ],
      "text/plain": [
       "   product_id                product_name  aisle_id  department_id  prices  \\\n",
       "0           1  Chocolate Sandwich Cookies        61             19     5.8   \n",
       "1           1  Chocolate Sandwich Cookies        61             19     5.8   \n",
       "2           1  Chocolate Sandwich Cookies        61             19     5.8   \n",
       "3           1  Chocolate Sandwich Cookies        61             19     5.8   \n",
       "4           1  Chocolate Sandwich Cookies        61             19     5.8   \n",
       "\n",
       "   order_id  user_id  order_number  orders_day_of_week  order_time_of_day  \\\n",
       "0   3139998      138            28                   6                 11   \n",
       "1   1977647      138            30                   6                 17   \n",
       "2    389851      709             2                   0                 21   \n",
       "3    652770      764             1                   3                 13   \n",
       "4   1813452      764             3                   4                 17   \n",
       "\n",
       "   ...  First Name  Surnam  Gender      state Age date_joined n_dependants  \\\n",
       "0  ...     Charles     Cox    Male  Minnesota  81    8/1/2019            1   \n",
       "1  ...     Charles     Cox    Male  Minnesota  81    8/1/2019            1   \n",
       "2  ...     Deborah   Glass  Female    Vermont  66   6/16/2018            2   \n",
       "3  ...     Heather   Myers  Female  Wisconsin  40    2/9/2020            3   \n",
       "4  ...     Heather   Myers  Female  Wisconsin  40    2/9/2020            3   \n",
       "\n",
       "  fam_status  income merge_2  \n",
       "0    married   49620    both  \n",
       "1    married   49620    both  \n",
       "2    married  158302    both  \n",
       "3    married   31308    both  \n",
       "4    married   31308    both  \n",
       "\n",
       "[5 rows x 36 columns]"
      ]
     },
     "execution_count": 8,
     "metadata": {},
     "output_type": "execute_result"
    }
   ],
   "source": [
    "# Drop PII columns if they exist\n",
    "pii_columns = ['email', 'phone_number']\n",
    "ords_prods_all = ords_prods_all.drop(columns=pii_columns, errors='ignore')\n",
    "\n",
    "# Alternatively, anonymize customer_id if required (hashing, etc.)\n",
    "# ords_prods_all['customer_id'] = ords_prods_all['customer_id'].apply(lambda x: hash(x))\n",
    "\n",
    "# Display the first few rows to confirm changes\n",
    "ords_prods_all.head()"
   ]
  },
  {
   "cell_type": "markdown",
   "id": "c683e53b-40e3-4f9e-8b5f-c41e9eeba81e",
   "metadata": {},
   "source": [
    "### 3 Create a regional segmentation of the data"
   ]
  },
  {
   "cell_type": "code",
   "execution_count": 9,
   "id": "f0d3be94-9d20-4fdb-8d1f-d57733db28fd",
   "metadata": {},
   "outputs": [],
   "source": [
    "# Create Region column - organize by state and region\n",
    "northeast_region = ['Connecticut', 'Maine', 'Massachusetts', 'New Hampshire', 'New Jersey', 'New York', 'Pennsylvania', 'Rhode Island', 'Vermont' ]"
   ]
  },
  {
   "cell_type": "code",
   "execution_count": 10,
   "id": "fe4ce332-6577-47ae-9c74-42c3672c1069",
   "metadata": {},
   "outputs": [],
   "source": [
    "midwest_region = ['Wisconsin', 'Michigan', 'Illinois', 'Indiana', 'Ohio', 'North Dakota', 'South Dakota', 'Nebraska', 'Kansas', 'Minnesota', 'Iowa', 'Missouri']"
   ]
  },
  {
   "cell_type": "code",
   "execution_count": 11,
   "id": "9fd25724-c66b-46e7-93ac-444ceaa47844",
   "metadata": {},
   "outputs": [],
   "source": [
    "south_region = ['Delaware', 'Maryland', 'District of Columbia', 'Virginia', 'West Virginia', 'North Carolina', 'South Carolina', 'Georgia', 'Florida', 'Kentucky', 'Tennessee', 'Mississippi', 'Alabama', 'Oklahoma', 'Texas', 'Arkansas', 'Louisiana']"
   ]
  },
  {
   "cell_type": "code",
   "execution_count": 12,
   "id": "d77169ff-7186-430e-83a0-ce0124b5b33b",
   "metadata": {},
   "outputs": [],
   "source": [
    "west_region = ['Idaho', 'Montana', 'Wyoming', 'Nevada', 'Utah', 'Colorado', 'Arizona', 'New Mexico', 'Alaska', 'Washington', 'Oregon', 'California', 'Hawaii']"
   ]
  },
  {
   "cell_type": "code",
   "execution_count": 13,
   "id": "ac02f235-b49f-4cbe-992c-012ef47706f4",
   "metadata": {},
   "outputs": [],
   "source": [
    "# Create region columns\n",
    "ords_prods_all.loc[ords_prods_all['state'].isin(northeast_region), 'region'] = 'Northeast'"
   ]
  },
  {
   "cell_type": "code",
   "execution_count": 14,
   "id": "fdaf710e-0bea-41b6-8cf8-888613ff9a5d",
   "metadata": {},
   "outputs": [],
   "source": [
    "ords_prods_all.loc[ords_prods_all['state'].isin(midwest_region), 'region'] = 'Midwest'"
   ]
  },
  {
   "cell_type": "code",
   "execution_count": 15,
   "id": "e7dd0b3e-1340-44df-8787-179d8135c46c",
   "metadata": {},
   "outputs": [],
   "source": [
    "ords_prods_all.loc[ords_prods_all['state'].isin(south_region), 'region'] = 'South'"
   ]
  },
  {
   "cell_type": "code",
   "execution_count": 16,
   "id": "0b85ff7b-00b8-40d7-8a9c-373edfc9f8b5",
   "metadata": {},
   "outputs": [],
   "source": [
    "ords_prods_all.loc[ords_prods_all['state'].isin(west_region), 'region'] = 'West'"
   ]
  },
  {
   "cell_type": "code",
   "execution_count": 17,
   "id": "5e13c552-a4be-4325-9581-e003cb69d7f3",
   "metadata": {},
   "outputs": [
    {
     "data": {
      "text/plain": [
       "region\n",
       "South        10791885\n",
       "West          8292913\n",
       "Midwest       7597325\n",
       "Northeast     5722736\n",
       "Name: count, dtype: int64"
      ]
     },
     "execution_count": 17,
     "metadata": {},
     "output_type": "execute_result"
    }
   ],
   "source": [
    "# Check data\n",
    "ords_prods_all['region'].value_counts(dropna = False)"
   ]
  },
  {
   "cell_type": "markdown",
   "id": "86c2d424-b286-4eeb-b1bc-077cbfcb169b",
   "metadata": {},
   "source": [
    "### 3.2. Create a crosstab to compare spending habits in different regions"
   ]
  },
  {
   "cell_type": "code",
   "execution_count": 18,
   "id": "38f2dff6-26d4-4b5d-ba8a-a8244e7b0cd4",
   "metadata": {},
   "outputs": [
    {
     "data": {
      "text/html": [
       "<div>\n",
       "<style scoped>\n",
       "    .dataframe tbody tr th:only-of-type {\n",
       "        vertical-align: middle;\n",
       "    }\n",
       "\n",
       "    .dataframe tbody tr th {\n",
       "        vertical-align: top;\n",
       "    }\n",
       "\n",
       "    .dataframe thead th {\n",
       "        text-align: right;\n",
       "    }\n",
       "</style>\n",
       "<table border=\"1\" class=\"dataframe\">\n",
       "  <thead>\n",
       "    <tr style=\"text-align: right;\">\n",
       "      <th>spending_flag</th>\n",
       "      <th>High spender</th>\n",
       "      <th>Low spender</th>\n",
       "    </tr>\n",
       "    <tr>\n",
       "      <th>region</th>\n",
       "      <th></th>\n",
       "      <th></th>\n",
       "    </tr>\n",
       "  </thead>\n",
       "  <tbody>\n",
       "    <tr>\n",
       "      <th>Midwest</th>\n",
       "      <td>155975</td>\n",
       "      <td>7441350</td>\n",
       "    </tr>\n",
       "    <tr>\n",
       "      <th>Northeast</th>\n",
       "      <td>108225</td>\n",
       "      <td>5614511</td>\n",
       "    </tr>\n",
       "    <tr>\n",
       "      <th>South</th>\n",
       "      <td>209691</td>\n",
       "      <td>10582194</td>\n",
       "    </tr>\n",
       "    <tr>\n",
       "      <th>West</th>\n",
       "      <td>160354</td>\n",
       "      <td>8132559</td>\n",
       "    </tr>\n",
       "  </tbody>\n",
       "</table>\n",
       "</div>"
      ],
      "text/plain": [
       "spending_flag  High spender  Low spender\n",
       "region                                  \n",
       "Midwest              155975      7441350\n",
       "Northeast            108225      5614511\n",
       "South                209691     10582194\n",
       "West                 160354      8132559"
      ]
     },
     "execution_count": 18,
     "metadata": {},
     "output_type": "execute_result"
    }
   ],
   "source": [
    "# Create region_spending crosstab\n",
    "region_spending_crosstab = pd.crosstab(ords_prods_all['region'], ords_prods_all['spending_flag'], dropna = False)\n",
    "region_spending_crosstab"
   ]
  },
  {
   "cell_type": "markdown",
   "id": "d9757baf-e459-4e06-a62f-14d0e7951b13",
   "metadata": {},
   "source": [
    "#### 4 The Instacart CFO isn’t interested in customers who don’t generate much revenue for the app. Create an exclusion flag for low-activity customers (customers with less than 5 orders) and exclude them from the data. Make sure you export this sample."
   ]
  },
  {
   "cell_type": "code",
   "execution_count": 19,
   "id": "014c2c77-5e4a-4c7f-b4bd-913edc783778",
   "metadata": {},
   "outputs": [],
   "source": [
    "# Exclude customers w/ max_order less than 5 \n",
    "ords_prods_all['exclusion_flag'] = 'Keep'  # Initialize with 'Keep'\n",
    "ords_prods_all.loc[ords_prods_all['max_order'] < 5, 'exclusion_flag'] = 'Exclude'"
   ]
  },
  {
   "cell_type": "code",
   "execution_count": 20,
   "id": "ae4ab011-42db-4bda-8b70-58f7fa230a7b",
   "metadata": {},
   "outputs": [
    {
     "name": "stdout",
     "output_type": "stream",
     "text": [
      "exclusion_flag\n",
      "Keep       30964564\n",
      "Exclude     1440295\n",
      "Name: count, dtype: int64\n"
     ]
    }
   ],
   "source": [
    "# Check frequencies\n",
    "print(ords_prods_all['exclusion_flag'].value_counts(dropna=False))"
   ]
  },
  {
   "cell_type": "code",
   "execution_count": 21,
   "id": "b0c0c1b0-6d26-4cb3-829f-d6dc33f90460",
   "metadata": {},
   "outputs": [],
   "source": [
    "# Check exclusion flag using crosstab\n",
    "exclusion_flag_check = pd.crosstab(ords_prods_all['exclusion_flag'], ords_prods_all['max_order'], dropna=False)"
   ]
  },
  {
   "cell_type": "code",
   "execution_count": 22,
   "id": "6131186f-9641-48da-a876-eb1069922829",
   "metadata": {},
   "outputs": [],
   "source": [
    "# Export crosstab to clipboard (optional)\n",
    "exclusion_flag_check.to_clipboard()"
   ]
  },
  {
   "cell_type": "code",
   "execution_count": 23,
   "id": "a8cd5b81-768f-4473-ac28-05f88005ca18",
   "metadata": {},
   "outputs": [],
   "source": [
    "# Create sample without 'Exclude' rows using query method\n",
    "ords_prods_all_in = ords_prods_all.query('exclusion_flag == \"Keep\"')"
   ]
  },
  {
   "cell_type": "code",
   "execution_count": 24,
   "id": "fd9de5d7-15f5-4942-89aa-6a272f9d2f58",
   "metadata": {},
   "outputs": [
    {
     "name": "stdout",
     "output_type": "stream",
     "text": [
      "(30964564, 38)\n"
     ]
    }
   ],
   "source": [
    "# Check sample\n",
    "print(ords_prods_all_in.shape)"
   ]
  },
  {
   "cell_type": "code",
   "execution_count": 25,
   "id": "8bce1436-40f4-48a1-90c6-2b7ed3fab2a0",
   "metadata": {},
   "outputs": [
    {
     "name": "stdout",
     "output_type": "stream",
     "text": [
      "<class 'pandas.core.frame.DataFrame'>\n",
      "Index: 30964564 entries, 0 to 32404858\n",
      "Data columns (total 38 columns):\n",
      " #   Column                  Dtype   \n",
      "---  ------                  -----   \n",
      " 0   product_id              int32   \n",
      " 1   product_name            category\n",
      " 2   aisle_id                int16   \n",
      " 3   department_id           int16   \n",
      " 4   prices                  float32 \n",
      " 5   order_id                int32   \n",
      " 6   user_id                 int32   \n",
      " 7   order_number            int32   \n",
      " 8   orders_day_of_week      int8    \n",
      " 9   order_time_of_day       int8    \n",
      " 10  days_since_prior_order  float32 \n",
      " 11  first_order             int8    \n",
      " 12  add_to_cart_order       int16   \n",
      " 13  reordered               int8    \n",
      " 14  existing_merge          category\n",
      " 15  merge_1                 category\n",
      " 16  price_range_loc         category\n",
      " 17  busiest_day             category\n",
      " 18  busiest_days            category\n",
      " 19  busiest_period_of_day   category\n",
      " 20  max_order               int32   \n",
      " 21  loyalty_flag            category\n",
      " 22  mean_product_price      float32 \n",
      " 23  spending_flag           category\n",
      " 24  customer_frequency      float32 \n",
      " 25  frequency_flag          category\n",
      " 26  First Name              object  \n",
      " 27  Surnam                  object  \n",
      " 28  Gender                  object  \n",
      " 29  state                   object  \n",
      " 30  Age                     int64   \n",
      " 31  date_joined             object  \n",
      " 32  n_dependants            int64   \n",
      " 33  fam_status              object  \n",
      " 34  income                  int64   \n",
      " 35  merge_2                 category\n",
      " 36  region                  object  \n",
      " 37  exclusion_flag          object  \n",
      "dtypes: category(11), float32(4), int16(3), int32(5), int64(3), int8(4), object(8)\n",
      "memory usage: 4.5+ GB\n"
     ]
    }
   ],
   "source": [
    "ords_prods_all_in.info()"
   ]
  },
  {
   "cell_type": "code",
   "execution_count": 33,
   "id": "5d652e47-1100-45de-81a3-e194a89b1c86",
   "metadata": {},
   "outputs": [
    {
     "name": "stdout",
     "output_type": "stream",
     "text": [
      "<class 'pandas.core.frame.DataFrame'>\n",
      "Index: 30964564 entries, 0 to 32404858\n",
      "Data columns (total 38 columns):\n",
      " #   Column                  Dtype   \n",
      "---  ------                  -----   \n",
      " 0   product_id              int32   \n",
      " 1   product_name            category\n",
      " 2   aisle_id                int16   \n",
      " 3   department_id           int16   \n",
      " 4   prices                  float32 \n",
      " 5   order_id                int32   \n",
      " 6   user_id                 int32   \n",
      " 7   order_number            int32   \n",
      " 8   orders_day_of_week      int8    \n",
      " 9   order_time_of_day       int8    \n",
      " 10  days_since_prior_order  float32 \n",
      " 11  first_order             int8    \n",
      " 12  add_to_cart_order       int16   \n",
      " 13  reordered               int8    \n",
      " 14  existing_merge          category\n",
      " 15  merge_1                 category\n",
      " 16  price_range_loc         category\n",
      " 17  busiest_day             category\n",
      " 18  busiest_days            category\n",
      " 19  busiest_period_of_day   category\n",
      " 20  max_order               int32   \n",
      " 21  loyalty_flag            category\n",
      " 22  mean_product_price      float32 \n",
      " 23  spending_flag           category\n",
      " 24  customer_frequency      float32 \n",
      " 25  frequency_flag          category\n",
      " 26  First Name              object  \n",
      " 27  Surnam                  object  \n",
      " 28  Gender                  object  \n",
      " 29  state                   object  \n",
      " 30  Age                     int64   \n",
      " 31  date_joined             object  \n",
      " 32  n_dependants            int64   \n",
      " 33  fam_status              object  \n",
      " 34  income                  int64   \n",
      " 35  merge_2                 category\n",
      " 36  region                  object  \n",
      " 37  exclusion_flag          object  \n",
      "dtypes: category(11), float32(4), int16(3), int32(5), int64(3), int8(4), object(8)\n",
      "memory usage: 4.5+ GB\n"
     ]
    }
   ],
   "source": [
    "ords_prods_all_in.info()"
   ]
  },
  {
   "cell_type": "code",
   "execution_count": 34,
   "id": "42db2302-c0db-4036-acaa-ef0644687355",
   "metadata": {
    "scrolled": true
   },
   "outputs": [
    {
     "ename": "MemoryError",
     "evalue": "",
     "output_type": "error",
     "traceback": [
      "\u001b[1;31m---------------------------------------------------------------------------\u001b[0m",
      "\u001b[1;31mMemoryError\u001b[0m                               Traceback (most recent call last)",
      "Cell \u001b[1;32mIn[34], line 2\u001b[0m\n\u001b[0;32m      1\u001b[0m \u001b[38;5;66;03m# Export the sample\u001b[39;00m\n\u001b[1;32m----> 2\u001b[0m ords_prods_all_in\u001b[38;5;241m.\u001b[39mto_pickle(os\u001b[38;5;241m.\u001b[39mpath\u001b[38;5;241m.\u001b[39mjoin(path, \u001b[38;5;124m'\u001b[39m\u001b[38;5;124m02 Data\u001b[39m\u001b[38;5;124m'\u001b[39m, \u001b[38;5;124m'\u001b[39m\u001b[38;5;124mPrepared Data\u001b[39m\u001b[38;5;124m'\u001b[39m, \u001b[38;5;124m'\u001b[39m\u001b[38;5;124mhigh_activity_customers.pkl\u001b[39m\u001b[38;5;124m'\u001b[39m))\n",
      "File \u001b[1;32m~\\anaconda3\\Lib\\site-packages\\pandas\\core\\generic.py:3085\u001b[0m, in \u001b[0;36mNDFrame.to_pickle\u001b[1;34m(self, path, compression, protocol, storage_options)\u001b[0m\n\u001b[0;32m   3033\u001b[0m \u001b[38;5;250m\u001b[39m\u001b[38;5;124;03m\"\"\"\u001b[39;00m\n\u001b[0;32m   3034\u001b[0m \u001b[38;5;124;03mPickle (serialize) object to file.\u001b[39;00m\n\u001b[0;32m   3035\u001b[0m \n\u001b[1;32m   (...)\u001b[0m\n\u001b[0;32m   3081\u001b[0m \u001b[38;5;124;03m4    4    9\u001b[39;00m\n\u001b[0;32m   3082\u001b[0m \u001b[38;5;124;03m\"\"\"\u001b[39;00m  \u001b[38;5;66;03m# noqa: E501\u001b[39;00m\n\u001b[0;32m   3083\u001b[0m \u001b[38;5;28;01mfrom\u001b[39;00m \u001b[38;5;21;01mpandas\u001b[39;00m\u001b[38;5;21;01m.\u001b[39;00m\u001b[38;5;21;01mio\u001b[39;00m\u001b[38;5;21;01m.\u001b[39;00m\u001b[38;5;21;01mpickle\u001b[39;00m \u001b[38;5;28;01mimport\u001b[39;00m to_pickle\n\u001b[1;32m-> 3085\u001b[0m to_pickle(\n\u001b[0;32m   3086\u001b[0m     \u001b[38;5;28mself\u001b[39m,\n\u001b[0;32m   3087\u001b[0m     path,\n\u001b[0;32m   3088\u001b[0m     compression\u001b[38;5;241m=\u001b[39mcompression,\n\u001b[0;32m   3089\u001b[0m     protocol\u001b[38;5;241m=\u001b[39mprotocol,\n\u001b[0;32m   3090\u001b[0m     storage_options\u001b[38;5;241m=\u001b[39mstorage_options,\n\u001b[0;32m   3091\u001b[0m )\n",
      "File \u001b[1;32m~\\anaconda3\\Lib\\site-packages\\pandas\\io\\pickle.py:113\u001b[0m, in \u001b[0;36mto_pickle\u001b[1;34m(obj, filepath_or_buffer, compression, protocol, storage_options)\u001b[0m\n\u001b[0;32m    103\u001b[0m     protocol \u001b[38;5;241m=\u001b[39m pickle\u001b[38;5;241m.\u001b[39mHIGHEST_PROTOCOL\n\u001b[0;32m    105\u001b[0m \u001b[38;5;28;01mwith\u001b[39;00m get_handle(\n\u001b[0;32m    106\u001b[0m     filepath_or_buffer,\n\u001b[0;32m    107\u001b[0m     \u001b[38;5;124m\"\u001b[39m\u001b[38;5;124mwb\u001b[39m\u001b[38;5;124m\"\u001b[39m,\n\u001b[1;32m   (...)\u001b[0m\n\u001b[0;32m    111\u001b[0m ) \u001b[38;5;28;01mas\u001b[39;00m handles:\n\u001b[0;32m    112\u001b[0m     \u001b[38;5;66;03m# letting pickle write directly to the buffer is more memory-efficient\u001b[39;00m\n\u001b[1;32m--> 113\u001b[0m     pickle\u001b[38;5;241m.\u001b[39mdump(obj, handles\u001b[38;5;241m.\u001b[39mhandle, protocol\u001b[38;5;241m=\u001b[39mprotocol)\n",
      "\u001b[1;31mMemoryError\u001b[0m: "
     ]
    }
   ],
   "source": [
    "# Export the sample\n",
    "ords_prods_all_in.to_pickle(os.path.join(path, '02 Data', 'Prepared Data', 'high_activity_customers.pkl'))"
   ]
  },
  {
   "cell_type": "markdown",
   "id": "70fbeb10-3328-44a3-baaa-c3b6969a2a10",
   "metadata": {},
   "source": [
    "#### 5 The marketing and business strategy units at Instacart want to create more-relevant marketing strategies for different products and are, thus, curious about customer profiling in their database. Create a profiling variable based on age, income, certain goods in the “department_id” column, and number of dependents. You might also use the “orders_day_of_week” and “order_hour_of_day” columns if you can think of a way they would impact customer profiles. (Hint: As an example, try thinking of what characteristics would lead you to the profile “Single adult” or “Young parent.”)"
   ]
  },
  {
   "cell_type": "markdown",
   "id": "e18c092f-33c8-4953-bac8-8199863c7ed0",
   "metadata": {},
   "source": [
    "### Import new downsized data"
   ]
  },
  {
   "cell_type": "code",
   "execution_count": 26,
   "id": "3b2a4d11-ce48-48c9-bbe8-94713ae3d290",
   "metadata": {},
   "outputs": [],
   "source": [
    "# Load the downsized data\n",
    "ords_prods_all_in = pd.read_pickle(os.path.join(path, '02 Data', 'Prepared Data', 'high_activity_customers_small.pkl'))"
   ]
  },
  {
   "cell_type": "code",
   "execution_count": 29,
   "id": "74ed663f-b2d8-462a-bb75-f5888c816792",
   "metadata": {},
   "outputs": [
    {
     "name": "stdout",
     "output_type": "stream",
     "text": [
      "Index(['department_id', 'prices', 'order_id', 'user_id', 'orders_day_of_week',\n",
      "       'order_time_of_day', 'days_since_prior_order', 'first_order',\n",
      "       'reordered', 'existing_merge', 'merge_1', 'price_range_loc',\n",
      "       'busiest_day', 'busiest_days', 'busiest_period_of_day', 'max_order',\n",
      "       'loyalty_flag', 'mean_product_price', 'spending_flag',\n",
      "       'customer_frequency', 'frequency_flag', 'First Name', 'Surnam',\n",
      "       'Gender', 'state', 'Age', 'date_joined', 'n_dependants', 'fam_status',\n",
      "       'income', 'merge_2', 'region', 'exclusion_flag', 'age_group'],\n",
      "      dtype='object')\n"
     ]
    }
   ],
   "source": [
    "print(ords_prods_all_in.columns)"
   ]
  },
  {
   "cell_type": "code",
   "execution_count": 30,
   "id": "6576b66d-896e-4a28-a502-58beb88ef907",
   "metadata": {},
   "outputs": [],
   "source": [
    "ords_prods_all_in.rename(columns={'Age': 'age'}, inplace=True)"
   ]
  },
  {
   "cell_type": "markdown",
   "id": "e73d1d6c-1091-4eae-9d3b-edae22aef50f",
   "metadata": {},
   "source": [
    "### Age\n",
    "The age categories are subjective but adhere to conventional ranges. Young adult = <29, adult 30 - 39, middle age 40 - 49, senior 52 - 64, and elderly 65+."
   ]
  },
  {
   "cell_type": "code",
   "execution_count": 31,
   "id": "16bdb510-c055-4d80-b5fd-7fa7614e8d8b",
   "metadata": {},
   "outputs": [],
   "source": [
    "ords_prods_all_in.loc[ords_prods_all_in['age'] <= 29, 'age_group'] = 'Young Adult'"
   ]
  },
  {
   "cell_type": "code",
   "execution_count": 32,
   "id": "ef1a18b4-dc44-4c8a-896a-05ca2324f87f",
   "metadata": {},
   "outputs": [],
   "source": [
    "ords_prods_all_in.loc[(ords_prods_all_in['age'] >= 30) & \n",
    "                    (ords_prods_all_in['age'] < 40), 'age_group'] = 'Adult'"
   ]
  },
  {
   "cell_type": "code",
   "execution_count": 33,
   "id": "ce8000b9-6ec3-473e-90dc-dcfc0bbacc2b",
   "metadata": {},
   "outputs": [],
   "source": [
    "ords_prods_all_in.loc[(ords_prods_all_in['age'] >= 40) & \n",
    "                    (ords_prods_all_in['age'] < 50), 'age_group'] = 'Middle Age'"
   ]
  },
  {
   "cell_type": "code",
   "execution_count": 34,
   "id": "bdfb0ae5-c0a9-4952-b502-d23676034d99",
   "metadata": {},
   "outputs": [],
   "source": [
    "ords_prods_all_in.loc[(ords_prods_all_in['age'] >= 50) & \n",
    "                    (ords_prods_all_in['age'] < 65), 'age_group'] = 'Senior'"
   ]
  },
  {
   "cell_type": "code",
   "execution_count": 35,
   "id": "e6cfe309-38b6-466d-bce0-20846607458c",
   "metadata": {},
   "outputs": [],
   "source": [
    "ords_prods_all_in.loc[(ords_prods_all_in['age'] >= 65), 'age_group'] = 'Elderly'"
   ]
  },
  {
   "cell_type": "code",
   "execution_count": 36,
   "id": "ea188a9d-aa1b-4210-baf1-0aa1b25ecd57",
   "metadata": {},
   "outputs": [
    {
     "data": {
      "text/plain": [
       "age_group\n",
       "Elderly        3277944\n",
       "Senior         2887289\n",
       "Young Adult    2326589\n",
       "Middle Age     1953762\n",
       "Adult          1939457\n",
       "Name: count, dtype: int64"
      ]
     },
     "execution_count": 36,
     "metadata": {},
     "output_type": "execute_result"
    }
   ],
   "source": [
    "# Check frequency of age_group and ensure no NaNs\n",
    "ords_prods_all_in['age_group'].value_counts(dropna = True)"
   ]
  },
  {
   "cell_type": "code",
   "execution_count": 37,
   "id": "3572f061-b25e-4ddc-a1b3-b1bc38c765e8",
   "metadata": {},
   "outputs": [
    {
     "data": {
      "text/html": [
       "<div>\n",
       "<style scoped>\n",
       "    .dataframe tbody tr th:only-of-type {\n",
       "        vertical-align: middle;\n",
       "    }\n",
       "\n",
       "    .dataframe tbody tr th {\n",
       "        vertical-align: top;\n",
       "    }\n",
       "\n",
       "    .dataframe thead th {\n",
       "        text-align: right;\n",
       "    }\n",
       "</style>\n",
       "<table border=\"1\" class=\"dataframe\">\n",
       "  <thead>\n",
       "    <tr style=\"text-align: right;\">\n",
       "      <th></th>\n",
       "      <th>department_id</th>\n",
       "      <th>prices</th>\n",
       "      <th>order_id</th>\n",
       "      <th>user_id</th>\n",
       "      <th>orders_day_of_week</th>\n",
       "      <th>order_time_of_day</th>\n",
       "      <th>days_since_prior_order</th>\n",
       "      <th>first_order</th>\n",
       "      <th>reordered</th>\n",
       "      <th>existing_merge</th>\n",
       "      <th>...</th>\n",
       "      <th>state</th>\n",
       "      <th>age</th>\n",
       "      <th>date_joined</th>\n",
       "      <th>n_dependants</th>\n",
       "      <th>fam_status</th>\n",
       "      <th>income</th>\n",
       "      <th>merge_2</th>\n",
       "      <th>region</th>\n",
       "      <th>exclusion_flag</th>\n",
       "      <th>age_group</th>\n",
       "    </tr>\n",
       "  </thead>\n",
       "  <tbody>\n",
       "    <tr>\n",
       "      <th>0</th>\n",
       "      <td>19</td>\n",
       "      <td>5.8</td>\n",
       "      <td>3139998</td>\n",
       "      <td>138</td>\n",
       "      <td>6</td>\n",
       "      <td>11</td>\n",
       "      <td>3.0</td>\n",
       "      <td>0</td>\n",
       "      <td>0</td>\n",
       "      <td>both</td>\n",
       "      <td>...</td>\n",
       "      <td>Minnesota</td>\n",
       "      <td>81</td>\n",
       "      <td>8/1/2019</td>\n",
       "      <td>1</td>\n",
       "      <td>married</td>\n",
       "      <td>49620</td>\n",
       "      <td>both</td>\n",
       "      <td>Midwest</td>\n",
       "      <td>Keep</td>\n",
       "      <td>Elderly</td>\n",
       "    </tr>\n",
       "    <tr>\n",
       "      <th>2</th>\n",
       "      <td>19</td>\n",
       "      <td>5.8</td>\n",
       "      <td>389851</td>\n",
       "      <td>709</td>\n",
       "      <td>0</td>\n",
       "      <td>21</td>\n",
       "      <td>6.0</td>\n",
       "      <td>0</td>\n",
       "      <td>0</td>\n",
       "      <td>both</td>\n",
       "      <td>...</td>\n",
       "      <td>Vermont</td>\n",
       "      <td>66</td>\n",
       "      <td>6/16/2018</td>\n",
       "      <td>2</td>\n",
       "      <td>married</td>\n",
       "      <td>158302</td>\n",
       "      <td>both</td>\n",
       "      <td>Northeast</td>\n",
       "      <td>Keep</td>\n",
       "      <td>Elderly</td>\n",
       "    </tr>\n",
       "    <tr>\n",
       "      <th>5</th>\n",
       "      <td>19</td>\n",
       "      <td>5.8</td>\n",
       "      <td>1701441</td>\n",
       "      <td>777</td>\n",
       "      <td>1</td>\n",
       "      <td>7</td>\n",
       "      <td>26.0</td>\n",
       "      <td>0</td>\n",
       "      <td>0</td>\n",
       "      <td>both</td>\n",
       "      <td>...</td>\n",
       "      <td>Hawaii</td>\n",
       "      <td>51</td>\n",
       "      <td>1/4/2019</td>\n",
       "      <td>2</td>\n",
       "      <td>married</td>\n",
       "      <td>57797</td>\n",
       "      <td>both</td>\n",
       "      <td>West</td>\n",
       "      <td>Keep</td>\n",
       "      <td>Senior</td>\n",
       "    </tr>\n",
       "    <tr>\n",
       "      <th>8</th>\n",
       "      <td>19</td>\n",
       "      <td>5.8</td>\n",
       "      <td>369558</td>\n",
       "      <td>1052</td>\n",
       "      <td>1</td>\n",
       "      <td>20</td>\n",
       "      <td>19.0</td>\n",
       "      <td>0</td>\n",
       "      <td>0</td>\n",
       "      <td>both</td>\n",
       "      <td>...</td>\n",
       "      <td>Oregon</td>\n",
       "      <td>72</td>\n",
       "      <td>3/30/2018</td>\n",
       "      <td>1</td>\n",
       "      <td>married</td>\n",
       "      <td>153843</td>\n",
       "      <td>both</td>\n",
       "      <td>West</td>\n",
       "      <td>Keep</td>\n",
       "      <td>Elderly</td>\n",
       "    </tr>\n",
       "    <tr>\n",
       "      <th>12</th>\n",
       "      <td>19</td>\n",
       "      <td>5.8</td>\n",
       "      <td>1727826</td>\n",
       "      <td>1480</td>\n",
       "      <td>4</td>\n",
       "      <td>13</td>\n",
       "      <td>7.0</td>\n",
       "      <td>0</td>\n",
       "      <td>1</td>\n",
       "      <td>both</td>\n",
       "      <td>...</td>\n",
       "      <td>Alabama</td>\n",
       "      <td>19</td>\n",
       "      <td>12/28/2019</td>\n",
       "      <td>1</td>\n",
       "      <td>living with parents and siblings</td>\n",
       "      <td>32283</td>\n",
       "      <td>both</td>\n",
       "      <td>South</td>\n",
       "      <td>Keep</td>\n",
       "      <td>Young Adult</td>\n",
       "    </tr>\n",
       "    <tr>\n",
       "      <th>...</th>\n",
       "      <td>...</td>\n",
       "      <td>...</td>\n",
       "      <td>...</td>\n",
       "      <td>...</td>\n",
       "      <td>...</td>\n",
       "      <td>...</td>\n",
       "      <td>...</td>\n",
       "      <td>...</td>\n",
       "      <td>...</td>\n",
       "      <td>...</td>\n",
       "      <td>...</td>\n",
       "      <td>...</td>\n",
       "      <td>...</td>\n",
       "      <td>...</td>\n",
       "      <td>...</td>\n",
       "      <td>...</td>\n",
       "      <td>...</td>\n",
       "      <td>...</td>\n",
       "      <td>...</td>\n",
       "      <td>...</td>\n",
       "      <td>...</td>\n",
       "    </tr>\n",
       "    <tr>\n",
       "      <th>32404835</th>\n",
       "      <td>11</td>\n",
       "      <td>13.5</td>\n",
       "      <td>1288677</td>\n",
       "      <td>163632</td>\n",
       "      <td>1</td>\n",
       "      <td>8</td>\n",
       "      <td>30.0</td>\n",
       "      <td>0</td>\n",
       "      <td>1</td>\n",
       "      <td>both</td>\n",
       "      <td>...</td>\n",
       "      <td>New Hampshire</td>\n",
       "      <td>31</td>\n",
       "      <td>3/27/2018</td>\n",
       "      <td>2</td>\n",
       "      <td>married</td>\n",
       "      <td>67824</td>\n",
       "      <td>both</td>\n",
       "      <td>Northeast</td>\n",
       "      <td>Keep</td>\n",
       "      <td>Adult</td>\n",
       "    </tr>\n",
       "    <tr>\n",
       "      <th>32404844</th>\n",
       "      <td>11</td>\n",
       "      <td>13.5</td>\n",
       "      <td>1173882</td>\n",
       "      <td>178752</td>\n",
       "      <td>0</td>\n",
       "      <td>23</td>\n",
       "      <td>21.0</td>\n",
       "      <td>0</td>\n",
       "      <td>0</td>\n",
       "      <td>both</td>\n",
       "      <td>...</td>\n",
       "      <td>Washington</td>\n",
       "      <td>81</td>\n",
       "      <td>2/7/2019</td>\n",
       "      <td>2</td>\n",
       "      <td>married</td>\n",
       "      <td>103440</td>\n",
       "      <td>both</td>\n",
       "      <td>West</td>\n",
       "      <td>Keep</td>\n",
       "      <td>Elderly</td>\n",
       "    </tr>\n",
       "    <tr>\n",
       "      <th>32404851</th>\n",
       "      <td>11</td>\n",
       "      <td>13.5</td>\n",
       "      <td>362546</td>\n",
       "      <td>188073</td>\n",
       "      <td>2</td>\n",
       "      <td>4</td>\n",
       "      <td>30.0</td>\n",
       "      <td>0</td>\n",
       "      <td>0</td>\n",
       "      <td>both</td>\n",
       "      <td>...</td>\n",
       "      <td>Minnesota</td>\n",
       "      <td>20</td>\n",
       "      <td>1/23/2018</td>\n",
       "      <td>2</td>\n",
       "      <td>living with parents and siblings</td>\n",
       "      <td>27577</td>\n",
       "      <td>both</td>\n",
       "      <td>Midwest</td>\n",
       "      <td>Keep</td>\n",
       "      <td>Young Adult</td>\n",
       "    </tr>\n",
       "    <tr>\n",
       "      <th>32404853</th>\n",
       "      <td>11</td>\n",
       "      <td>13.5</td>\n",
       "      <td>3106363</td>\n",
       "      <td>197371</td>\n",
       "      <td>4</td>\n",
       "      <td>14</td>\n",
       "      <td>30.0</td>\n",
       "      <td>0</td>\n",
       "      <td>0</td>\n",
       "      <td>both</td>\n",
       "      <td>...</td>\n",
       "      <td>Alabama</td>\n",
       "      <td>62</td>\n",
       "      <td>10/25/2019</td>\n",
       "      <td>1</td>\n",
       "      <td>married</td>\n",
       "      <td>128072</td>\n",
       "      <td>both</td>\n",
       "      <td>South</td>\n",
       "      <td>Keep</td>\n",
       "      <td>Senior</td>\n",
       "    </tr>\n",
       "    <tr>\n",
       "      <th>32404854</th>\n",
       "      <td>11</td>\n",
       "      <td>13.5</td>\n",
       "      <td>1788356</td>\n",
       "      <td>200215</td>\n",
       "      <td>0</td>\n",
       "      <td>9</td>\n",
       "      <td>5.0</td>\n",
       "      <td>0</td>\n",
       "      <td>0</td>\n",
       "      <td>both</td>\n",
       "      <td>...</td>\n",
       "      <td>Rhode Island</td>\n",
       "      <td>47</td>\n",
       "      <td>9/13/2017</td>\n",
       "      <td>1</td>\n",
       "      <td>married</td>\n",
       "      <td>166687</td>\n",
       "      <td>both</td>\n",
       "      <td>Northeast</td>\n",
       "      <td>Keep</td>\n",
       "      <td>Middle Age</td>\n",
       "    </tr>\n",
       "  </tbody>\n",
       "</table>\n",
       "<p>11080118 rows × 34 columns</p>\n",
       "</div>"
      ],
      "text/plain": [
       "          department_id  prices  order_id  user_id  orders_day_of_week  \\\n",
       "0                    19     5.8   3139998      138                   6   \n",
       "2                    19     5.8    389851      709                   0   \n",
       "5                    19     5.8   1701441      777                   1   \n",
       "8                    19     5.8    369558     1052                   1   \n",
       "12                   19     5.8   1727826     1480                   4   \n",
       "...                 ...     ...       ...      ...                 ...   \n",
       "32404835             11    13.5   1288677   163632                   1   \n",
       "32404844             11    13.5   1173882   178752                   0   \n",
       "32404851             11    13.5    362546   188073                   2   \n",
       "32404853             11    13.5   3106363   197371                   4   \n",
       "32404854             11    13.5   1788356   200215                   0   \n",
       "\n",
       "          order_time_of_day  days_since_prior_order  first_order  reordered  \\\n",
       "0                        11                     3.0            0          0   \n",
       "2                        21                     6.0            0          0   \n",
       "5                         7                    26.0            0          0   \n",
       "8                        20                    19.0            0          0   \n",
       "12                       13                     7.0            0          1   \n",
       "...                     ...                     ...          ...        ...   \n",
       "32404835                  8                    30.0            0          1   \n",
       "32404844                 23                    21.0            0          0   \n",
       "32404851                  4                    30.0            0          0   \n",
       "32404853                 14                    30.0            0          0   \n",
       "32404854                  9                     5.0            0          0   \n",
       "\n",
       "         existing_merge  ...          state age date_joined n_dependants  \\\n",
       "0                  both  ...      Minnesota  81    8/1/2019            1   \n",
       "2                  both  ...        Vermont  66   6/16/2018            2   \n",
       "5                  both  ...         Hawaii  51    1/4/2019            2   \n",
       "8                  both  ...         Oregon  72   3/30/2018            1   \n",
       "12                 both  ...        Alabama  19  12/28/2019            1   \n",
       "...                 ...  ...            ...  ..         ...          ...   \n",
       "32404835           both  ...  New Hampshire  31   3/27/2018            2   \n",
       "32404844           both  ...     Washington  81    2/7/2019            2   \n",
       "32404851           both  ...      Minnesota  20   1/23/2018            2   \n",
       "32404853           both  ...        Alabama  62  10/25/2019            1   \n",
       "32404854           both  ...   Rhode Island  47   9/13/2017            1   \n",
       "\n",
       "                                fam_status  income merge_2     region  \\\n",
       "0                                  married   49620    both    Midwest   \n",
       "2                                  married  158302    both  Northeast   \n",
       "5                                  married   57797    both       West   \n",
       "8                                  married  153843    both       West   \n",
       "12        living with parents and siblings   32283    both      South   \n",
       "...                                    ...     ...     ...        ...   \n",
       "32404835                           married   67824    both  Northeast   \n",
       "32404844                           married  103440    both       West   \n",
       "32404851  living with parents and siblings   27577    both    Midwest   \n",
       "32404853                           married  128072    both      South   \n",
       "32404854                           married  166687    both  Northeast   \n",
       "\n",
       "         exclusion_flag    age_group  \n",
       "0                  Keep      Elderly  \n",
       "2                  Keep      Elderly  \n",
       "5                  Keep       Senior  \n",
       "8                  Keep      Elderly  \n",
       "12                 Keep  Young Adult  \n",
       "...                 ...          ...  \n",
       "32404835           Keep        Adult  \n",
       "32404844           Keep      Elderly  \n",
       "32404851           Keep  Young Adult  \n",
       "32404853           Keep       Senior  \n",
       "32404854           Keep   Middle Age  \n",
       "\n",
       "[11080118 rows x 34 columns]"
      ]
     },
     "execution_count": 37,
     "metadata": {},
     "output_type": "execute_result"
    }
   ],
   "source": [
    "ords_prods_all_in.dropna()"
   ]
  },
  {
   "cell_type": "markdown",
   "id": "1fb6ec21-7e1a-474f-b81d-e29a3ec19a23",
   "metadata": {},
   "source": [
    "### Income"
   ]
  },
  {
   "cell_type": "code",
   "execution_count": 38,
   "id": "157eec50-debd-4b82-86f7-1a9053166696",
   "metadata": {},
   "outputs": [],
   "source": [
    "ords_prods_all_in.loc[ords_prods_all_in['income'] <= 50000, 'income_group'] = 'Low'"
   ]
  },
  {
   "cell_type": "code",
   "execution_count": 39,
   "id": "d081eb49-9915-47f6-aba9-538d34e939b6",
   "metadata": {},
   "outputs": [],
   "source": [
    "ords_prods_all_in.loc[(ords_prods_all_in['income'] > 50000) & \n",
    "                    (ords_prods_all_in['income'] <= 100000), 'income_group'] = 'Middle'"
   ]
  },
  {
   "cell_type": "code",
   "execution_count": 40,
   "id": "23f14a42-2b70-435a-a82f-dabd2c562514",
   "metadata": {},
   "outputs": [],
   "source": [
    "ords_prods_all_in.loc[ords_prods_all_in['income'] > 100000, 'income_group'] = 'High'"
   ]
  },
  {
   "cell_type": "code",
   "execution_count": 41,
   "id": "425eb480-953f-4443-a366-9e7f817ed21f",
   "metadata": {},
   "outputs": [
    {
     "data": {
      "text/plain": [
       "income_group\n",
       "High      5683028\n",
       "Middle    5356826\n",
       "Low       1345187\n",
       "Name: count, dtype: int64"
      ]
     },
     "execution_count": 41,
     "metadata": {},
     "output_type": "execute_result"
    }
   ],
   "source": [
    "# Check frequency of income_group and ensure no NaNs\n",
    "ords_prods_all_in['income_group'].value_counts(dropna = False)"
   ]
  },
  {
   "cell_type": "markdown",
   "id": "dfb9e662-8d38-4296-97de-ad332e270dc2",
   "metadata": {},
   "source": [
    "### Dependents"
   ]
  },
  {
   "cell_type": "code",
   "execution_count": 42,
   "id": "b09ed263-f1ef-4fbd-939d-441ef7009b08",
   "metadata": {},
   "outputs": [],
   "source": [
    "ords_prods_all_in.loc[ords_prods_all_in['n_dependants'] == 0, 'dependents_flag'] = 'No Dependents'"
   ]
  },
  {
   "cell_type": "code",
   "execution_count": 43,
   "id": "038d34eb-730e-4a56-b3b0-a236193622b3",
   "metadata": {},
   "outputs": [],
   "source": [
    "# Ensure it is a copy\n",
    "ords_prods_all_in = ords_prods_all_in.copy()\n",
    "\n",
    "# Update 'dependents_flag' where 'n_dependants' is greater than 0\n",
    "ords_prods_all_in.loc[ords_prods_all_in['n_dependants'] > 0, 'dependents_flag'] = 'Has Dependents'\n",
    "\n",
    "# Update 'dependents_flag' where 'n_dependants' is 0\n",
    "ords_prods_all_in.loc[ords_prods_all_in['n_dependants'] == 0, 'dependents_flag'] = 'No Dependents'"
   ]
  },
  {
   "cell_type": "code",
   "execution_count": 44,
   "id": "0bcd361b-b98e-4a37-8980-510c74e9a7bf",
   "metadata": {},
   "outputs": [
    {
     "data": {
      "text/plain": [
       "dependents_flag\n",
       "Has Dependents    9289787\n",
       "No Dependents     3095254\n",
       "Name: count, dtype: int64"
      ]
     },
     "execution_count": 44,
     "metadata": {},
     "output_type": "execute_result"
    }
   ],
   "source": [
    "# Check data\n",
    "ords_prods_all_in['dependents_flag'].value_counts(dropna = False)"
   ]
  },
  {
   "cell_type": "markdown",
   "id": "af8285ed-fd05-4162-9cf9-e8ff1969ee23",
   "metadata": {},
   "source": [
    "### 6 Create an appropriate visualization to show the distribution of profiles.\n"
   ]
  },
  {
   "cell_type": "code",
   "execution_count": 45,
   "id": "8185e573-7b4e-42b0-8dce-853b6a44002c",
   "metadata": {},
   "outputs": [],
   "source": [
    "# Create a unique user_id sample and take relevant columns\n",
    "user_sample = ords_prods_all_in[['user_id', 'age_group', 'income_group', 'dependents_flag', 'region', 'loyalty_flag']]"
   ]
  },
  {
   "cell_type": "code",
   "execution_count": 46,
   "id": "73bfbfa2-d500-4d24-92f9-444281612221",
   "metadata": {},
   "outputs": [],
   "source": [
    "# Remove duplicate rows in the user_sample to obtain a sample of all unique customers\n",
    "user_sample = user_sample.drop_duplicates()"
   ]
  },
  {
   "cell_type": "code",
   "execution_count": 47,
   "id": "48ab2ec6-11b5-40bf-997a-c8794ce6bd9d",
   "metadata": {},
   "outputs": [
    {
     "data": {
      "text/html": [
       "<div>\n",
       "<style scoped>\n",
       "    .dataframe tbody tr th:only-of-type {\n",
       "        vertical-align: middle;\n",
       "    }\n",
       "\n",
       "    .dataframe tbody tr th {\n",
       "        vertical-align: top;\n",
       "    }\n",
       "\n",
       "    .dataframe thead th {\n",
       "        text-align: right;\n",
       "    }\n",
       "</style>\n",
       "<table border=\"1\" class=\"dataframe\">\n",
       "  <thead>\n",
       "    <tr style=\"text-align: right;\">\n",
       "      <th></th>\n",
       "      <th>user_id</th>\n",
       "      <th>age_group</th>\n",
       "      <th>income_group</th>\n",
       "      <th>dependents_flag</th>\n",
       "      <th>region</th>\n",
       "      <th>loyalty_flag</th>\n",
       "    </tr>\n",
       "  </thead>\n",
       "  <tbody>\n",
       "    <tr>\n",
       "      <th>0</th>\n",
       "      <td>138</td>\n",
       "      <td>Elderly</td>\n",
       "      <td>Low</td>\n",
       "      <td>Has Dependents</td>\n",
       "      <td>Midwest</td>\n",
       "      <td>Regular customer</td>\n",
       "    </tr>\n",
       "    <tr>\n",
       "      <th>2</th>\n",
       "      <td>709</td>\n",
       "      <td>Elderly</td>\n",
       "      <td>High</td>\n",
       "      <td>Has Dependents</td>\n",
       "      <td>Northeast</td>\n",
       "      <td>New customer</td>\n",
       "    </tr>\n",
       "    <tr>\n",
       "      <th>5</th>\n",
       "      <td>777</td>\n",
       "      <td>Senior</td>\n",
       "      <td>Middle</td>\n",
       "      <td>Has Dependents</td>\n",
       "      <td>West</td>\n",
       "      <td>Regular customer</td>\n",
       "    </tr>\n",
       "    <tr>\n",
       "      <th>6</th>\n",
       "      <td>825</td>\n",
       "      <td>Young Adult</td>\n",
       "      <td>Low</td>\n",
       "      <td>Has Dependents</td>\n",
       "      <td>South</td>\n",
       "      <td>New customer</td>\n",
       "    </tr>\n",
       "    <tr>\n",
       "      <th>8</th>\n",
       "      <td>1052</td>\n",
       "      <td>Elderly</td>\n",
       "      <td>High</td>\n",
       "      <td>Has Dependents</td>\n",
       "      <td>West</td>\n",
       "      <td>Regular customer</td>\n",
       "    </tr>\n",
       "    <tr>\n",
       "      <th>...</th>\n",
       "      <td>...</td>\n",
       "      <td>...</td>\n",
       "      <td>...</td>\n",
       "      <td>...</td>\n",
       "      <td>...</td>\n",
       "      <td>...</td>\n",
       "    </tr>\n",
       "    <tr>\n",
       "      <th>31911736</th>\n",
       "      <td>200972</td>\n",
       "      <td>Middle Age</td>\n",
       "      <td>Middle</td>\n",
       "      <td>Has Dependents</td>\n",
       "      <td>West</td>\n",
       "      <td>New customer</td>\n",
       "    </tr>\n",
       "    <tr>\n",
       "      <th>31942913</th>\n",
       "      <td>99296</td>\n",
       "      <td>Elderly</td>\n",
       "      <td>Low</td>\n",
       "      <td>Has Dependents</td>\n",
       "      <td>Midwest</td>\n",
       "      <td>New customer</td>\n",
       "    </tr>\n",
       "    <tr>\n",
       "      <th>32059674</th>\n",
       "      <td>71469</td>\n",
       "      <td>Young Adult</td>\n",
       "      <td>Low</td>\n",
       "      <td>Has Dependents</td>\n",
       "      <td>South</td>\n",
       "      <td>New customer</td>\n",
       "    </tr>\n",
       "    <tr>\n",
       "      <th>32084812</th>\n",
       "      <td>140060</td>\n",
       "      <td>Elderly</td>\n",
       "      <td>Low</td>\n",
       "      <td>Has Dependents</td>\n",
       "      <td>Midwest</td>\n",
       "      <td>New customer</td>\n",
       "    </tr>\n",
       "    <tr>\n",
       "      <th>32180109</th>\n",
       "      <td>169498</td>\n",
       "      <td>Middle Age</td>\n",
       "      <td>High</td>\n",
       "      <td>Has Dependents</td>\n",
       "      <td>Northeast</td>\n",
       "      <td>New customer</td>\n",
       "    </tr>\n",
       "  </tbody>\n",
       "</table>\n",
       "<p>162600 rows × 6 columns</p>\n",
       "</div>"
      ],
      "text/plain": [
       "          user_id    age_group income_group dependents_flag     region  \\\n",
       "0             138      Elderly          Low  Has Dependents    Midwest   \n",
       "2             709      Elderly         High  Has Dependents  Northeast   \n",
       "5             777       Senior       Middle  Has Dependents       West   \n",
       "6             825  Young Adult          Low  Has Dependents      South   \n",
       "8            1052      Elderly         High  Has Dependents       West   \n",
       "...           ...          ...          ...             ...        ...   \n",
       "31911736   200972   Middle Age       Middle  Has Dependents       West   \n",
       "31942913    99296      Elderly          Low  Has Dependents    Midwest   \n",
       "32059674    71469  Young Adult          Low  Has Dependents      South   \n",
       "32084812   140060      Elderly          Low  Has Dependents    Midwest   \n",
       "32180109   169498   Middle Age         High  Has Dependents  Northeast   \n",
       "\n",
       "              loyalty_flag  \n",
       "0         Regular customer  \n",
       "2             New customer  \n",
       "5         Regular customer  \n",
       "6             New customer  \n",
       "8         Regular customer  \n",
       "...                    ...  \n",
       "31911736      New customer  \n",
       "31942913      New customer  \n",
       "32059674      New customer  \n",
       "32084812      New customer  \n",
       "32180109      New customer  \n",
       "\n",
       "[162600 rows x 6 columns]"
      ]
     },
     "execution_count": 47,
     "metadata": {},
     "output_type": "execute_result"
    }
   ],
   "source": [
    "# Check data\n",
    "user_sample"
   ]
  },
  {
   "cell_type": "markdown",
   "id": "020d783f-5415-4337-b36a-9dcdecffb733",
   "metadata": {},
   "source": [
    "####  Age Groups"
   ]
  },
  {
   "cell_type": "code",
   "execution_count": 48,
   "id": "baae4ac3-f807-496d-8222-4c2b9f360b57",
   "metadata": {},
   "outputs": [],
   "source": [
    "    # Import visualization libraries\n",
    "import matplotlib.pyplot as plt\n",
    "import seaborn as sns\n",
    "import scipy"
   ]
  },
  {
   "cell_type": "code",
   "execution_count": 49,
   "id": "ceceeb7a-d7b2-4c0e-ab6a-54e081b56f98",
   "metadata": {},
   "outputs": [],
   "source": [
    "## Create age_group counts table\n",
    "age_group_counts = user_sample['age_group'].value_counts()"
   ]
  },
  {
   "cell_type": "code",
   "execution_count": 50,
   "id": "57819c0d-61d4-4140-aa70-c3494a79b620",
   "metadata": {},
   "outputs": [
    {
     "data": {
      "image/png": "[encoded data removed]",
      "text/plain": [
       "<Figure size 600x600 with 1 Axes>"
      ]
     },
     "metadata": {},
     "output_type": "display_data"
    }
   ],
   "source": [
    "# Pie Chart\n",
    "plt.figure(figsize=(6, 6)) # Control size of chart\n",
    "plt.pie(age_group_counts, \n",
    "        labels = age_group_counts.index, \n",
    "        autopct='%.1f%%', # Show percentage to 1 d.p\n",
    "        colors = ['#0bb4ff', '#e60049', '#4421af', '#5ad45a', '#ffa300', '#ebdc78'], # colour palette\n",
    "        wedgeprops = {'edgecolor' : 'black'}) # boarders\n",
    "plt.title('Instacart Distribution of Customers by Age Group') # title\n",
    "plt.savefig(os.path.join(path, '04 Analysis', 'Visualizations', 'customers_age_groups_pie.png'), bbox_inches = 'tight') # Save\n",
    "plt.show()"
   ]
  },
  {
   "cell_type": "markdown",
   "id": "db5a9619-456a-48a2-af39-d29a61699124",
   "metadata": {},
   "source": [
    "### Income Groups"
   ]
  },
  {
   "cell_type": "code",
   "execution_count": 51,
   "id": "0d4c4cc8-9332-4d03-8302-fbeed43aa85b",
   "metadata": {},
   "outputs": [],
   "source": [
    "## Create a table of income_group counts\n",
    "income_group_counts = user_sample['income_group'].value_counts()"
   ]
  },
  {
   "cell_type": "code",
   "execution_count": 52,
   "id": "0ccd78b9-c5de-4b78-bb12-c8f331b78c9e",
   "metadata": {},
   "outputs": [
    {
     "data": {
      "image/png": "[encoded data removed]",
      "text/plain": [
       "<Figure size 600x600 with 1 Axes>"
      ]
     },
     "metadata": {},
     "output_type": "display_data"
    }
   ],
   "source": [
    "# Pie chart\n",
    "plt.figure(figsize=(6, 6))\n",
    "plt.pie(income_group_counts, \n",
    "        labels = income_group_counts.index, \n",
    "        autopct='%.1f%%',\n",
    "        colors = ['#e14b31', '#0d88e6', '#5ad45a'],\n",
    "        wedgeprops = {'edgecolor' : 'black'})\n",
    "plt.title('Instacart Distribution of Customers by Income Group')\n",
    "plt.savefig(os.path.join(path, '04 Analysis', 'Visualizations', 'customers_income_groups_pie.png'), bbox_inches = 'tight')\n",
    "plt.show()"
   ]
  },
  {
   "cell_type": "markdown",
   "id": "190090a2-b1d9-40d6-8627-afa3c4bc487e",
   "metadata": {},
   "source": [
    "### Dependents"
   ]
  },
  {
   "cell_type": "code",
   "execution_count": 53,
   "id": "f9425f26-96b9-44a0-aef1-5e2dac7491e4",
   "metadata": {},
   "outputs": [],
   "source": [
    "# create a table of dependents_flag counts\n",
    "dependents_flag_counts = user_sample['dependents_flag'].value_counts()"
   ]
  },
  {
   "cell_type": "code",
   "execution_count": 54,
   "id": "0969060f-27eb-4a2d-b5ce-8a697abbccb0",
   "metadata": {},
   "outputs": [
    {
     "data": {
      "image/png": "[encoded data removed]",
      "text/plain": [
       "<Figure size 600x600 with 1 Axes>"
      ]
     },
     "metadata": {},
     "output_type": "display_data"
    }
   ],
   "source": [
    "# Pie chart\n",
    "plt.figure(figsize=(6, 6))\n",
    "plt.pie(dependents_flag_counts, \n",
    "        labels = dependents_flag_counts.index, \n",
    "        autopct='%.1f%%', \n",
    "        colors = ['#ea5545', '#27aeef'],\n",
    "        wedgeprops = {'edgecolor' : 'black'})\n",
    "plt.title('Instacart Customers with Dependents vs without Dependents')\n",
    "plt.savefig(os.path.join(path, '04 Analysis', 'Visualizations', 'customers_dependents_pie.png'), bbox_inches = 'tight')\n",
    "plt.show()"
   ]
  },
  {
   "cell_type": "markdown",
   "id": "fad5a9c7-d82d-4580-b864-045a22ca3903",
   "metadata": {},
   "source": [
    "### 7 Aggregate the max, mean, and min variables on a customer-profile level for usage frequency and expenditure.\n"
   ]
  },
  {
   "cell_type": "code",
   "execution_count": 63,
   "id": "e499be15-b4f0-4b77-8ea8-d7407ca37ad6",
   "metadata": {},
   "outputs": [],
   "source": [
    "# Define categories for age, income, and dependants\n",
    "ords_prods_all_in['age_category'] = pd.cut(ords_prods_all_in['age'], bins=[18, 25, 35, 45, 55, 65, 100], labels=['18-25', '26-35', '36-45', '46-55', '56-65', '66+'])\n",
    "ords_prods_all_in['income_category'] = pd.cut(ords_prods_all_in['income'], bins=[0, 50000, 100000, 150000, 200000, 1000000], labels=['0-50K', '50-100K', '100-150K', '150-200K', '200K+'])\n",
    "ords_prods_all_in['dependants_category'] = pd.cut(ords_prods_all_in['n_dependants'], bins=[0, 1, 2, 3, 4, 5, 10], labels=['0', '1', '2', '3', '4', '5+'])"
   ]
  },
  {
   "cell_type": "code",
   "execution_count": 64,
   "id": "2c8dc9c9-7ff1-4724-9c64-11e118fc042b",
   "metadata": {},
   "outputs": [
    {
     "name": "stderr",
     "output_type": "stream",
     "text": [
      "C:\\Users\\edwin\\AppData\\Local\\Temp\\ipykernel_11256\\1002857142.py:2: FutureWarning: The default of observed=False is deprecated and will be changed to True in a future version of pandas. Pass observed=False to retain current behavior or observed=True to adopt the future default and silence this warning.\n",
      "  customer_profile_agg = ords_prods_all_in.groupby(['age_category', 'income_category', 'dependants_category']).agg({\n"
     ]
    }
   ],
   "source": [
    "# Aggregate max, mean, and min for usage frequency and expenditure by age, income, and dependants category\n",
    "customer_profile_agg = ords_prods_all_in.groupby(['age_category', 'income_category', 'dependants_category']).agg({\n",
    "    'customer_frequency': ['max', 'mean', 'min'],\n",
    "    'mean_product_price': ['max', 'mean', 'min']\n",
    "}).reset_index()\n",
    "\n",
    "# Rename columns for clarity\n",
    "customer_profile_agg.columns = ['age_category', 'income_category', 'dependants_category', \n",
    "                                'max_usage_frequency', 'mean_usage_frequency', 'min_usage_frequency', \n",
    "                                'max_expenditure', 'mean_expenditure', 'min_expenditure']\n"
   ]
  },
  {
   "cell_type": "code",
   "execution_count": 65,
   "id": "2c303cbc-677c-4b20-a500-2bd4931e0b80",
   "metadata": {},
   "outputs": [
    {
     "name": "stdout",
     "output_type": "stream",
     "text": [
      "  age_category income_category dependants_category  max_usage_frequency  \\\n",
      "0        18-25           0-50K                   0                 30.0   \n",
      "1        18-25           0-50K                   1                 30.0   \n",
      "2        18-25           0-50K                   2                 30.0   \n",
      "3        18-25           0-50K                   3                  NaN   \n",
      "4        18-25           0-50K                   4                  NaN   \n",
      "\n",
      "   mean_usage_frequency  min_usage_frequency  max_expenditure  \\\n",
      "0             10.843225                  1.0         9.784058   \n",
      "1              9.678764                  0.0        10.456154   \n",
      "2             10.583847                  0.0        10.600000   \n",
      "3                   NaN                  NaN              NaN   \n",
      "4                   NaN                  NaN              NaN   \n",
      "\n",
      "   mean_expenditure  min_expenditure  \n",
      "0          6.887751         2.600000  \n",
      "1          6.918189         2.387671  \n",
      "2          6.887144         2.000000  \n",
      "3               NaN              NaN  \n",
      "4               NaN              NaN  \n"
     ]
    }
   ],
   "source": [
    "print(customer_profile_agg.head())"
   ]
  },
  {
   "cell_type": "markdown",
   "id": "9699b57f-71a9-48ed-b42f-eb7beb5ff388",
   "metadata": {},
   "source": [
    "### 8 Compare your customer profiles with regions and departments. Can you identify a link between them? Customers may demonstrate different behaviors across regions, which could make this information important."
   ]
  },
  {
   "cell_type": "code",
   "execution_count": 66,
   "id": "a1ea0376-c623-47be-b09c-764fc24a7b53",
   "metadata": {},
   "outputs": [],
   "source": [
    "# Get names of each department back into the data\n",
    "df_dep = pd.read_csv(os.path.join(path, '02 Data', 'Original Data', 'departments.csv'))"
   ]
  },
  {
   "cell_type": "code",
   "execution_count": 67,
   "id": "2a1d374b-9a76-4452-ae9f-34e88d1933c5",
   "metadata": {},
   "outputs": [],
   "source": [
    "# Transpose:\n",
    "df_dep_t = df_dep.T"
   ]
  },
  {
   "cell_type": "code",
   "execution_count": 68,
   "id": "0acf3bec-6e04-438b-8867-65417166c908",
   "metadata": {},
   "outputs": [],
   "source": [
    "# Create index\n",
    "df_dep_t.reset_index(inplace = True)"
   ]
  },
  {
   "cell_type": "code",
   "execution_count": 69,
   "id": "210c3b7b-df57-400d-abaa-6dd5f128a166",
   "metadata": {},
   "outputs": [],
   "source": [
    "# Copy row 0 into variable\n",
    "new_header = df_dep_t.iloc[0]"
   ]
  },
  {
   "cell_type": "code",
   "execution_count": 70,
   "id": "57a9ecce-cd04-41c3-b983-c48c3ffc8e1a",
   "metadata": {},
   "outputs": [],
   "source": [
    "# Remove row 0\n",
    "df_dep_t = df_dep_t[1:]"
   ]
  },
  {
   "cell_type": "code",
   "execution_count": 71,
   "id": "3f192f77-37b1-42ed-b4dc-b99f256f7098",
   "metadata": {},
   "outputs": [],
   "source": [
    "# Assign header row\n",
    "df_dep_t.columns = new_header"
   ]
  },
  {
   "cell_type": "code",
   "execution_count": 72,
   "id": "58e34802-90e3-4424-b77a-aef87a736f0c",
   "metadata": {},
   "outputs": [
    {
     "data": {
      "text/html": [
       "<div>\n",
       "<style scoped>\n",
       "    .dataframe tbody tr th:only-of-type {\n",
       "        vertical-align: middle;\n",
       "    }\n",
       "\n",
       "    .dataframe tbody tr th {\n",
       "        vertical-align: top;\n",
       "    }\n",
       "\n",
       "    .dataframe thead th {\n",
       "        text-align: right;\n",
       "    }\n",
       "</style>\n",
       "<table border=\"1\" class=\"dataframe\">\n",
       "  <thead>\n",
       "    <tr style=\"text-align: right;\">\n",
       "      <th></th>\n",
       "      <th>department_id</th>\n",
       "      <th>department</th>\n",
       "    </tr>\n",
       "  </thead>\n",
       "  <tbody>\n",
       "    <tr>\n",
       "      <th>1</th>\n",
       "      <td>1</td>\n",
       "      <td>frozen</td>\n",
       "    </tr>\n",
       "    <tr>\n",
       "      <th>2</th>\n",
       "      <td>2</td>\n",
       "      <td>other</td>\n",
       "    </tr>\n",
       "    <tr>\n",
       "      <th>3</th>\n",
       "      <td>3</td>\n",
       "      <td>bakery</td>\n",
       "    </tr>\n",
       "    <tr>\n",
       "      <th>4</th>\n",
       "      <td>4</td>\n",
       "      <td>produce</td>\n",
       "    </tr>\n",
       "    <tr>\n",
       "      <th>5</th>\n",
       "      <td>5</td>\n",
       "      <td>alcohol</td>\n",
       "    </tr>\n",
       "    <tr>\n",
       "      <th>6</th>\n",
       "      <td>6</td>\n",
       "      <td>international</td>\n",
       "    </tr>\n",
       "    <tr>\n",
       "      <th>7</th>\n",
       "      <td>7</td>\n",
       "      <td>beverages</td>\n",
       "    </tr>\n",
       "    <tr>\n",
       "      <th>8</th>\n",
       "      <td>8</td>\n",
       "      <td>pets</td>\n",
       "    </tr>\n",
       "    <tr>\n",
       "      <th>9</th>\n",
       "      <td>9</td>\n",
       "      <td>dry goods pasta</td>\n",
       "    </tr>\n",
       "    <tr>\n",
       "      <th>10</th>\n",
       "      <td>10</td>\n",
       "      <td>bulk</td>\n",
       "    </tr>\n",
       "    <tr>\n",
       "      <th>11</th>\n",
       "      <td>11</td>\n",
       "      <td>personal care</td>\n",
       "    </tr>\n",
       "    <tr>\n",
       "      <th>12</th>\n",
       "      <td>12</td>\n",
       "      <td>meat seafood</td>\n",
       "    </tr>\n",
       "    <tr>\n",
       "      <th>13</th>\n",
       "      <td>13</td>\n",
       "      <td>pantry</td>\n",
       "    </tr>\n",
       "    <tr>\n",
       "      <th>14</th>\n",
       "      <td>14</td>\n",
       "      <td>breakfast</td>\n",
       "    </tr>\n",
       "    <tr>\n",
       "      <th>15</th>\n",
       "      <td>15</td>\n",
       "      <td>canned goods</td>\n",
       "    </tr>\n",
       "    <tr>\n",
       "      <th>16</th>\n",
       "      <td>16</td>\n",
       "      <td>dairy eggs</td>\n",
       "    </tr>\n",
       "    <tr>\n",
       "      <th>17</th>\n",
       "      <td>17</td>\n",
       "      <td>household</td>\n",
       "    </tr>\n",
       "    <tr>\n",
       "      <th>18</th>\n",
       "      <td>18</td>\n",
       "      <td>babies</td>\n",
       "    </tr>\n",
       "    <tr>\n",
       "      <th>19</th>\n",
       "      <td>19</td>\n",
       "      <td>snacks</td>\n",
       "    </tr>\n",
       "    <tr>\n",
       "      <th>20</th>\n",
       "      <td>20</td>\n",
       "      <td>deli</td>\n",
       "    </tr>\n",
       "    <tr>\n",
       "      <th>21</th>\n",
       "      <td>21</td>\n",
       "      <td>missing</td>\n",
       "    </tr>\n",
       "  </tbody>\n",
       "</table>\n",
       "</div>"
      ],
      "text/plain": [
       "0  department_id       department\n",
       "1              1           frozen\n",
       "2              2            other\n",
       "3              3           bakery\n",
       "4              4          produce\n",
       "5              5          alcohol\n",
       "6              6    international\n",
       "7              7        beverages\n",
       "8              8             pets\n",
       "9              9  dry goods pasta\n",
       "10            10             bulk\n",
       "11            11    personal care\n",
       "12            12     meat seafood\n",
       "13            13           pantry\n",
       "14            14        breakfast\n",
       "15            15     canned goods\n",
       "16            16       dairy eggs\n",
       "17            17        household\n",
       "18            18           babies\n",
       "19            19           snacks\n",
       "20            20             deli\n",
       "21            21          missing"
      ]
     },
     "execution_count": 72,
     "metadata": {},
     "output_type": "execute_result"
    }
   ],
   "source": [
    "# Check code\n",
    "df_dep_t"
   ]
  },
  {
   "cell_type": "code",
   "execution_count": 73,
   "id": "110eeeae-cf6b-4d1e-bc3a-3443df2defd2",
   "metadata": {},
   "outputs": [],
   "source": [
    "# Ensure department_id is int8 to merge\n",
    "df_dep_t['department_id'] = df_dep_t['department_id'].astype('int8')"
   ]
  },
  {
   "cell_type": "code",
   "execution_count": 75,
   "id": "a4af8c4a-9360-484d-9a15-f25f43b7a2a5",
   "metadata": {},
   "outputs": [],
   "source": [
    "# Merge in chunks function\n",
    "def merge_in_chunks(df1, df2, chunk_size=1000000):\n",
    "    chunks = []\n",
    "    for start in range(0, len(df1), chunk_size):\n",
    "        end = start + chunk_size\n",
    "        chunk = df1.iloc[start:end].merge(df2, on='department_id', indicator='merge1')\n",
    "        chunks.append(chunk)\n",
    "        del chunk  # Free up memory\n",
    "    return pd.concat(chunks, ignore_index=True)"
   ]
  },
  {
   "cell_type": "code",
   "execution_count": null,
   "id": "9a8c212a-f5f4-4adb-9fa1-47c4ca14dcba",
   "metadata": {},
   "outputs": [],
   "source": [
    "# Perform the chunked merge\n",
    "full_data = merge_in_chunks(ords_prods_all_in, df_dep_t)"
   ]
  },
  {
   "cell_type": "code",
   "execution_count": null,
   "id": "05a812be-4349-4f01-ab28-7cd63c9eff85",
   "metadata": {},
   "outputs": [],
   "source": []
  },
  {
   "cell_type": "code",
   "execution_count": null,
   "id": "d66f7f25-4e01-401c-a776-3a28cfbb5134",
   "metadata": {},
   "outputs": [],
   "source": []
  },
  {
   "cell_type": "code",
   "execution_count": null,
   "id": "56772e7a-34f5-470c-9fd8-de6a4a43f53e",
   "metadata": {},
   "outputs": [],
   "source": []
  },
  {
   "cell_type": "code",
   "execution_count": 74,
   "id": "1c7539bb-eb1b-4d90-9297-97111c4a34ee",
   "metadata": {},
   "outputs": [
    {
     "ename": "MemoryError",
     "evalue": "Unable to allocate 1.02 GiB for an array with shape (11, 12385041) and data type object",
     "output_type": "error",
     "traceback": [
      "\u001b[1;31m---------------------------------------------------------------------------\u001b[0m",
      "\u001b[1;31mMemoryError\u001b[0m                               Traceback (most recent call last)",
      "Cell \u001b[1;32mIn[74], line 2\u001b[0m\n\u001b[0;32m      1\u001b[0m \u001b[38;5;66;03m# Merge on department_id\u001b[39;00m\n\u001b[1;32m----> 2\u001b[0m full_data \u001b[38;5;241m=\u001b[39m ords_prods_all_in\u001b[38;5;241m.\u001b[39mmerge(df_dep_t, on \u001b[38;5;241m=\u001b[39m \u001b[38;5;124m'\u001b[39m\u001b[38;5;124mdepartment_id\u001b[39m\u001b[38;5;124m'\u001b[39m, indicator \u001b[38;5;241m=\u001b[39m \u001b[38;5;124m'\u001b[39m\u001b[38;5;124mmerge1\u001b[39m\u001b[38;5;124m'\u001b[39m)\n",
      "File \u001b[1;32m~\\anaconda3\\Lib\\site-packages\\pandas\\core\\frame.py:10487\u001b[0m, in \u001b[0;36mDataFrame.merge\u001b[1;34m(self, right, how, on, left_on, right_on, left_index, right_index, sort, suffixes, copy, indicator, validate)\u001b[0m\n\u001b[0;32m  10468\u001b[0m \u001b[38;5;129m@Substitution\u001b[39m(\u001b[38;5;124m\"\u001b[39m\u001b[38;5;124m\"\u001b[39m)\n\u001b[0;32m  10469\u001b[0m \u001b[38;5;129m@Appender\u001b[39m(_merge_doc, indents\u001b[38;5;241m=\u001b[39m\u001b[38;5;241m2\u001b[39m)\n\u001b[0;32m  10470\u001b[0m \u001b[38;5;28;01mdef\u001b[39;00m \u001b[38;5;21mmerge\u001b[39m(\n\u001b[1;32m   (...)\u001b[0m\n\u001b[0;32m  10483\u001b[0m     validate: MergeValidate \u001b[38;5;241m|\u001b[39m \u001b[38;5;28;01mNone\u001b[39;00m \u001b[38;5;241m=\u001b[39m \u001b[38;5;28;01mNone\u001b[39;00m,\n\u001b[0;32m  10484\u001b[0m ) \u001b[38;5;241m-\u001b[39m\u001b[38;5;241m>\u001b[39m DataFrame:\n\u001b[0;32m  10485\u001b[0m     \u001b[38;5;28;01mfrom\u001b[39;00m \u001b[38;5;21;01mpandas\u001b[39;00m\u001b[38;5;21;01m.\u001b[39;00m\u001b[38;5;21;01mcore\u001b[39;00m\u001b[38;5;21;01m.\u001b[39;00m\u001b[38;5;21;01mreshape\u001b[39;00m\u001b[38;5;21;01m.\u001b[39;00m\u001b[38;5;21;01mmerge\u001b[39;00m \u001b[38;5;28;01mimport\u001b[39;00m merge\n\u001b[1;32m> 10487\u001b[0m     \u001b[38;5;28;01mreturn\u001b[39;00m merge(\n\u001b[0;32m  10488\u001b[0m         \u001b[38;5;28mself\u001b[39m,\n\u001b[0;32m  10489\u001b[0m         right,\n\u001b[0;32m  10490\u001b[0m         how\u001b[38;5;241m=\u001b[39mhow,\n\u001b[0;32m  10491\u001b[0m         on\u001b[38;5;241m=\u001b[39mon,\n\u001b[0;32m  10492\u001b[0m         left_on\u001b[38;5;241m=\u001b[39mleft_on,\n\u001b[0;32m  10493\u001b[0m         right_on\u001b[38;5;241m=\u001b[39mright_on,\n\u001b[0;32m  10494\u001b[0m         left_index\u001b[38;5;241m=\u001b[39mleft_index,\n\u001b[0;32m  10495\u001b[0m         right_index\u001b[38;5;241m=\u001b[39mright_index,\n\u001b[0;32m  10496\u001b[0m         sort\u001b[38;5;241m=\u001b[39msort,\n\u001b[0;32m  10497\u001b[0m         suffixes\u001b[38;5;241m=\u001b[39msuffixes,\n\u001b[0;32m  10498\u001b[0m         copy\u001b[38;5;241m=\u001b[39mcopy,\n\u001b[0;32m  10499\u001b[0m         indicator\u001b[38;5;241m=\u001b[39mindicator,\n\u001b[0;32m  10500\u001b[0m         validate\u001b[38;5;241m=\u001b[39mvalidate,\n\u001b[0;32m  10501\u001b[0m     )\n",
      "File \u001b[1;32m~\\anaconda3\\Lib\\site-packages\\pandas\\core\\reshape\\merge.py:183\u001b[0m, in \u001b[0;36mmerge\u001b[1;34m(left, right, how, on, left_on, right_on, left_index, right_index, sort, suffixes, copy, indicator, validate)\u001b[0m\n\u001b[0;32m    168\u001b[0m \u001b[38;5;28;01melse\u001b[39;00m:\n\u001b[0;32m    169\u001b[0m     op \u001b[38;5;241m=\u001b[39m _MergeOperation(\n\u001b[0;32m    170\u001b[0m         left_df,\n\u001b[0;32m    171\u001b[0m         right_df,\n\u001b[1;32m   (...)\u001b[0m\n\u001b[0;32m    181\u001b[0m         validate\u001b[38;5;241m=\u001b[39mvalidate,\n\u001b[0;32m    182\u001b[0m     )\n\u001b[1;32m--> 183\u001b[0m     \u001b[38;5;28;01mreturn\u001b[39;00m op\u001b[38;5;241m.\u001b[39mget_result(copy\u001b[38;5;241m=\u001b[39mcopy)\n",
      "File \u001b[1;32m~\\anaconda3\\Lib\\site-packages\\pandas\\core\\reshape\\merge.py:885\u001b[0m, in \u001b[0;36m_MergeOperation.get_result\u001b[1;34m(self, copy)\u001b[0m\n\u001b[0;32m    881\u001b[0m     \u001b[38;5;28mself\u001b[39m\u001b[38;5;241m.\u001b[39mleft, \u001b[38;5;28mself\u001b[39m\u001b[38;5;241m.\u001b[39mright \u001b[38;5;241m=\u001b[39m \u001b[38;5;28mself\u001b[39m\u001b[38;5;241m.\u001b[39m_indicator_pre_merge(\u001b[38;5;28mself\u001b[39m\u001b[38;5;241m.\u001b[39mleft, \u001b[38;5;28mself\u001b[39m\u001b[38;5;241m.\u001b[39mright)\n\u001b[0;32m    883\u001b[0m join_index, left_indexer, right_indexer \u001b[38;5;241m=\u001b[39m \u001b[38;5;28mself\u001b[39m\u001b[38;5;241m.\u001b[39m_get_join_info()\n\u001b[1;32m--> 885\u001b[0m result \u001b[38;5;241m=\u001b[39m \u001b[38;5;28mself\u001b[39m\u001b[38;5;241m.\u001b[39m_reindex_and_concat(\n\u001b[0;32m    886\u001b[0m     join_index, left_indexer, right_indexer, copy\u001b[38;5;241m=\u001b[39mcopy\n\u001b[0;32m    887\u001b[0m )\n\u001b[0;32m    888\u001b[0m result \u001b[38;5;241m=\u001b[39m result\u001b[38;5;241m.\u001b[39m__finalize__(\u001b[38;5;28mself\u001b[39m, method\u001b[38;5;241m=\u001b[39m\u001b[38;5;28mself\u001b[39m\u001b[38;5;241m.\u001b[39m_merge_type)\n\u001b[0;32m    890\u001b[0m \u001b[38;5;28;01mif\u001b[39;00m \u001b[38;5;28mself\u001b[39m\u001b[38;5;241m.\u001b[39mindicator:\n",
      "File \u001b[1;32m~\\anaconda3\\Lib\\site-packages\\pandas\\core\\reshape\\merge.py:845\u001b[0m, in \u001b[0;36m_MergeOperation._reindex_and_concat\u001b[1;34m(self, join_index, left_indexer, right_indexer, copy)\u001b[0m\n\u001b[0;32m    837\u001b[0m llabels, rlabels \u001b[38;5;241m=\u001b[39m _items_overlap_with_suffix(\n\u001b[0;32m    838\u001b[0m     \u001b[38;5;28mself\u001b[39m\u001b[38;5;241m.\u001b[39mleft\u001b[38;5;241m.\u001b[39m_info_axis, \u001b[38;5;28mself\u001b[39m\u001b[38;5;241m.\u001b[39mright\u001b[38;5;241m.\u001b[39m_info_axis, \u001b[38;5;28mself\u001b[39m\u001b[38;5;241m.\u001b[39msuffixes\n\u001b[0;32m    839\u001b[0m )\n\u001b[0;32m    841\u001b[0m \u001b[38;5;28;01mif\u001b[39;00m left_indexer \u001b[38;5;129;01mis\u001b[39;00m \u001b[38;5;129;01mnot\u001b[39;00m \u001b[38;5;28;01mNone\u001b[39;00m \u001b[38;5;129;01mand\u001b[39;00m \u001b[38;5;129;01mnot\u001b[39;00m is_range_indexer(left_indexer, \u001b[38;5;28mlen\u001b[39m(left)):\n\u001b[0;32m    842\u001b[0m     \u001b[38;5;66;03m# Pinning the index here (and in the right code just below) is not\u001b[39;00m\n\u001b[0;32m    843\u001b[0m     \u001b[38;5;66;03m#  necessary, but makes the `.take` more performant if we have e.g.\u001b[39;00m\n\u001b[0;32m    844\u001b[0m     \u001b[38;5;66;03m#  a MultiIndex for left.index.\u001b[39;00m\n\u001b[1;32m--> 845\u001b[0m     lmgr \u001b[38;5;241m=\u001b[39m left\u001b[38;5;241m.\u001b[39m_mgr\u001b[38;5;241m.\u001b[39mreindex_indexer(\n\u001b[0;32m    846\u001b[0m         join_index,\n\u001b[0;32m    847\u001b[0m         left_indexer,\n\u001b[0;32m    848\u001b[0m         axis\u001b[38;5;241m=\u001b[39m\u001b[38;5;241m1\u001b[39m,\n\u001b[0;32m    849\u001b[0m         copy\u001b[38;5;241m=\u001b[39m\u001b[38;5;28;01mFalse\u001b[39;00m,\n\u001b[0;32m    850\u001b[0m         only_slice\u001b[38;5;241m=\u001b[39m\u001b[38;5;28;01mTrue\u001b[39;00m,\n\u001b[0;32m    851\u001b[0m         allow_dups\u001b[38;5;241m=\u001b[39m\u001b[38;5;28;01mTrue\u001b[39;00m,\n\u001b[0;32m    852\u001b[0m         use_na_proxy\u001b[38;5;241m=\u001b[39m\u001b[38;5;28;01mTrue\u001b[39;00m,\n\u001b[0;32m    853\u001b[0m     )\n\u001b[0;32m    854\u001b[0m     left \u001b[38;5;241m=\u001b[39m left\u001b[38;5;241m.\u001b[39m_constructor_from_mgr(lmgr, axes\u001b[38;5;241m=\u001b[39mlmgr\u001b[38;5;241m.\u001b[39maxes)\n\u001b[0;32m    855\u001b[0m left\u001b[38;5;241m.\u001b[39mindex \u001b[38;5;241m=\u001b[39m join_index\n",
      "File \u001b[1;32m~\\anaconda3\\Lib\\site-packages\\pandas\\core\\internals\\managers.py:670\u001b[0m, in \u001b[0;36mBaseBlockManager.reindex_indexer\u001b[1;34m(self, new_axis, indexer, axis, fill_value, allow_dups, copy, only_slice, use_na_proxy)\u001b[0m\n\u001b[0;32m    663\u001b[0m     new_blocks \u001b[38;5;241m=\u001b[39m \u001b[38;5;28mself\u001b[39m\u001b[38;5;241m.\u001b[39m_slice_take_blocks_ax0(\n\u001b[0;32m    664\u001b[0m         indexer,\n\u001b[0;32m    665\u001b[0m         fill_value\u001b[38;5;241m=\u001b[39mfill_value,\n\u001b[0;32m    666\u001b[0m         only_slice\u001b[38;5;241m=\u001b[39monly_slice,\n\u001b[0;32m    667\u001b[0m         use_na_proxy\u001b[38;5;241m=\u001b[39muse_na_proxy,\n\u001b[0;32m    668\u001b[0m     )\n\u001b[0;32m    669\u001b[0m \u001b[38;5;28;01melse\u001b[39;00m:\n\u001b[1;32m--> 670\u001b[0m     new_blocks \u001b[38;5;241m=\u001b[39m [\n\u001b[0;32m    671\u001b[0m         blk\u001b[38;5;241m.\u001b[39mtake_nd(\n\u001b[0;32m    672\u001b[0m             indexer,\n\u001b[0;32m    673\u001b[0m             axis\u001b[38;5;241m=\u001b[39m\u001b[38;5;241m1\u001b[39m,\n\u001b[0;32m    674\u001b[0m             fill_value\u001b[38;5;241m=\u001b[39m(\n\u001b[0;32m    675\u001b[0m                 fill_value \u001b[38;5;28;01mif\u001b[39;00m fill_value \u001b[38;5;129;01mis\u001b[39;00m \u001b[38;5;129;01mnot\u001b[39;00m \u001b[38;5;28;01mNone\u001b[39;00m \u001b[38;5;28;01melse\u001b[39;00m blk\u001b[38;5;241m.\u001b[39mfill_value\n\u001b[0;32m    676\u001b[0m             ),\n\u001b[0;32m    677\u001b[0m         )\n\u001b[0;32m    678\u001b[0m         \u001b[38;5;28;01mfor\u001b[39;00m blk \u001b[38;5;129;01min\u001b[39;00m \u001b[38;5;28mself\u001b[39m\u001b[38;5;241m.\u001b[39mblocks\n\u001b[0;32m    679\u001b[0m     ]\n\u001b[0;32m    681\u001b[0m new_axes \u001b[38;5;241m=\u001b[39m \u001b[38;5;28mlist\u001b[39m(\u001b[38;5;28mself\u001b[39m\u001b[38;5;241m.\u001b[39maxes)\n\u001b[0;32m    682\u001b[0m new_axes[axis] \u001b[38;5;241m=\u001b[39m new_axis\n",
      "File \u001b[1;32m~\\anaconda3\\Lib\\site-packages\\pandas\\core\\internals\\managers.py:671\u001b[0m, in \u001b[0;36m<listcomp>\u001b[1;34m(.0)\u001b[0m\n\u001b[0;32m    663\u001b[0m     new_blocks \u001b[38;5;241m=\u001b[39m \u001b[38;5;28mself\u001b[39m\u001b[38;5;241m.\u001b[39m_slice_take_blocks_ax0(\n\u001b[0;32m    664\u001b[0m         indexer,\n\u001b[0;32m    665\u001b[0m         fill_value\u001b[38;5;241m=\u001b[39mfill_value,\n\u001b[0;32m    666\u001b[0m         only_slice\u001b[38;5;241m=\u001b[39monly_slice,\n\u001b[0;32m    667\u001b[0m         use_na_proxy\u001b[38;5;241m=\u001b[39muse_na_proxy,\n\u001b[0;32m    668\u001b[0m     )\n\u001b[0;32m    669\u001b[0m \u001b[38;5;28;01melse\u001b[39;00m:\n\u001b[0;32m    670\u001b[0m     new_blocks \u001b[38;5;241m=\u001b[39m [\n\u001b[1;32m--> 671\u001b[0m         blk\u001b[38;5;241m.\u001b[39mtake_nd(\n\u001b[0;32m    672\u001b[0m             indexer,\n\u001b[0;32m    673\u001b[0m             axis\u001b[38;5;241m=\u001b[39m\u001b[38;5;241m1\u001b[39m,\n\u001b[0;32m    674\u001b[0m             fill_value\u001b[38;5;241m=\u001b[39m(\n\u001b[0;32m    675\u001b[0m                 fill_value \u001b[38;5;28;01mif\u001b[39;00m fill_value \u001b[38;5;129;01mis\u001b[39;00m \u001b[38;5;129;01mnot\u001b[39;00m \u001b[38;5;28;01mNone\u001b[39;00m \u001b[38;5;28;01melse\u001b[39;00m blk\u001b[38;5;241m.\u001b[39mfill_value\n\u001b[0;32m    676\u001b[0m             ),\n\u001b[0;32m    677\u001b[0m         )\n\u001b[0;32m    678\u001b[0m         \u001b[38;5;28;01mfor\u001b[39;00m blk \u001b[38;5;129;01min\u001b[39;00m \u001b[38;5;28mself\u001b[39m\u001b[38;5;241m.\u001b[39mblocks\n\u001b[0;32m    679\u001b[0m     ]\n\u001b[0;32m    681\u001b[0m new_axes \u001b[38;5;241m=\u001b[39m \u001b[38;5;28mlist\u001b[39m(\u001b[38;5;28mself\u001b[39m\u001b[38;5;241m.\u001b[39maxes)\n\u001b[0;32m    682\u001b[0m new_axes[axis] \u001b[38;5;241m=\u001b[39m new_axis\n",
      "File \u001b[1;32m~\\anaconda3\\Lib\\site-packages\\pandas\\core\\internals\\blocks.py:1061\u001b[0m, in \u001b[0;36mBlock.take_nd\u001b[1;34m(self, indexer, axis, new_mgr_locs, fill_value)\u001b[0m\n\u001b[0;32m   1058\u001b[0m     allow_fill \u001b[38;5;241m=\u001b[39m \u001b[38;5;28;01mTrue\u001b[39;00m\n\u001b[0;32m   1060\u001b[0m \u001b[38;5;66;03m# Note: algos.take_nd has upcast logic similar to coerce_to_target_dtype\u001b[39;00m\n\u001b[1;32m-> 1061\u001b[0m new_values \u001b[38;5;241m=\u001b[39m algos\u001b[38;5;241m.\u001b[39mtake_nd(\n\u001b[0;32m   1062\u001b[0m     values, indexer, axis\u001b[38;5;241m=\u001b[39maxis, allow_fill\u001b[38;5;241m=\u001b[39mallow_fill, fill_value\u001b[38;5;241m=\u001b[39mfill_value\n\u001b[0;32m   1063\u001b[0m )\n\u001b[0;32m   1065\u001b[0m \u001b[38;5;66;03m# Called from three places in managers, all of which satisfy\u001b[39;00m\n\u001b[0;32m   1066\u001b[0m \u001b[38;5;66;03m#  these assertions\u001b[39;00m\n\u001b[0;32m   1067\u001b[0m \u001b[38;5;28;01mif\u001b[39;00m \u001b[38;5;28misinstance\u001b[39m(\u001b[38;5;28mself\u001b[39m, ExtensionBlock):\n\u001b[0;32m   1068\u001b[0m     \u001b[38;5;66;03m# NB: in this case, the 'axis' kwarg will be ignored in the\u001b[39;00m\n\u001b[0;32m   1069\u001b[0m     \u001b[38;5;66;03m#  algos.take_nd call above.\u001b[39;00m\n",
      "File \u001b[1;32m~\\anaconda3\\Lib\\site-packages\\pandas\\core\\array_algos\\take.py:118\u001b[0m, in \u001b[0;36mtake_nd\u001b[1;34m(arr, indexer, axis, fill_value, allow_fill)\u001b[0m\n\u001b[0;32m    115\u001b[0m     \u001b[38;5;28;01mreturn\u001b[39;00m arr\u001b[38;5;241m.\u001b[39mtake(indexer, fill_value\u001b[38;5;241m=\u001b[39mfill_value, allow_fill\u001b[38;5;241m=\u001b[39mallow_fill)\n\u001b[0;32m    117\u001b[0m arr \u001b[38;5;241m=\u001b[39m np\u001b[38;5;241m.\u001b[39masarray(arr)\n\u001b[1;32m--> 118\u001b[0m \u001b[38;5;28;01mreturn\u001b[39;00m _take_nd_ndarray(arr, indexer, axis, fill_value, allow_fill)\n",
      "File \u001b[1;32m~\\anaconda3\\Lib\\site-packages\\pandas\\core\\array_algos\\take.py:158\u001b[0m, in \u001b[0;36m_take_nd_ndarray\u001b[1;34m(arr, indexer, axis, fill_value, allow_fill)\u001b[0m\n\u001b[0;32m    156\u001b[0m     out \u001b[38;5;241m=\u001b[39m np\u001b[38;5;241m.\u001b[39mempty(out_shape, dtype\u001b[38;5;241m=\u001b[39mdtype, order\u001b[38;5;241m=\u001b[39m\u001b[38;5;124m\"\u001b[39m\u001b[38;5;124mF\u001b[39m\u001b[38;5;124m\"\u001b[39m)\n\u001b[0;32m    157\u001b[0m \u001b[38;5;28;01melse\u001b[39;00m:\n\u001b[1;32m--> 158\u001b[0m     out \u001b[38;5;241m=\u001b[39m np\u001b[38;5;241m.\u001b[39mempty(out_shape, dtype\u001b[38;5;241m=\u001b[39mdtype)\n\u001b[0;32m    160\u001b[0m func \u001b[38;5;241m=\u001b[39m _get_take_nd_function(\n\u001b[0;32m    161\u001b[0m     arr\u001b[38;5;241m.\u001b[39mndim, arr\u001b[38;5;241m.\u001b[39mdtype, out\u001b[38;5;241m.\u001b[39mdtype, axis\u001b[38;5;241m=\u001b[39maxis, mask_info\u001b[38;5;241m=\u001b[39mmask_info\n\u001b[0;32m    162\u001b[0m )\n\u001b[0;32m    163\u001b[0m func(arr, indexer, out, fill_value)\n",
      "\u001b[1;31mMemoryError\u001b[0m: Unable to allocate 1.02 GiB for an array with shape (11, 12385041) and data type object"
     ]
    }
   ],
   "source": [
    "# Merge on department_id\n",
    "full_data = ords_prods_all_in.merge(df_dep_t, on = 'department_id', indicator = 'merge1')"
   ]
  },
  {
   "cell_type": "code",
   "execution_count": null,
   "id": "6f48a2bf-f3f0-40f5-8a6a-699e4fae73ab",
   "metadata": {},
   "outputs": [],
   "source": [
    "full_data.head()"
   ]
  },
  {
   "cell_type": "code",
   "execution_count": null,
   "id": "8fc42f4f-2e51-49ee-aafb-98b9f2202395",
   "metadata": {},
   "outputs": [],
   "source": [
    "# Check frequency of new merge flag to ensure it is the same as the number of rows in ords_prods_all_in\n",
    "full_data['merge1'].value_counts(dropna = False)"
   ]
  },
  {
   "cell_type": "code",
   "execution_count": null,
   "id": "73311e09-41e7-457b-830c-86bede6ce116",
   "metadata": {},
   "outputs": [],
   "source": [
    "# Drop merge flag\n",
    "full_data.drop('merge1', axis = 1, inplace = True)"
   ]
  },
  {
   "cell_type": "markdown",
   "id": "830aa280-d808-49fe-8142-85c5572e65bb",
   "metadata": {},
   "source": [
    "### 8 Compare your customer profiles with regions and departments. Can you identify a link between them? Customers may demonstrate different behaviors across regions, which could make this information important."
   ]
  },
  {
   "cell_type": "markdown",
   "id": "b05cc673-fb6c-486f-92ab-b16ccb1cc107",
   "metadata": {},
   "source": [
    "### Income Groups"
   ]
  },
  {
   "cell_type": "code",
   "execution_count": null,
   "id": "49505f86-fe3a-4dc4-9f8a-acda093825ed",
   "metadata": {},
   "outputs": [],
   "source": [
    "# HGistogram shows the count of customers in each income group by region\n",
    "plt.figure(figsize=(10, 6))\n",
    "# Plot the histogram bars\n",
    "sns.histplot(data=user_sample, x='region', hue='income_group', multiple='dodge', shrink=.8, alpha=1)\n",
    "# Overlay a grid behind the bars\n",
    "plt.gca().set_axisbelow(True)  # Ensure grid is behind bars\n",
    "plt.grid(axis='y', color='gray', linestyle='dashed')\n",
    "# General formatting\n",
    "plt.title('Distribution of Customers Income groups by Region')\n",
    "plt.ylabel('No. of Customers')\n",
    "plt.xlabel('Region')\n",
    "# Save and show\n",
    "plt.savefig(os.path.join(path, '04 Analysis', 'Visualizations', 'instacart_income_by_region.png'), bbox_inches = 'tight')\n",
    "plt.show()"
   ]
  },
  {
   "cell_type": "code",
   "execution_count": null,
   "id": "fd140ccd-96b5-460c-bfa8-ea17b81b62f2",
   "metadata": {},
   "outputs": [],
   "source": [
    "# Check above graph using crosstab\n",
    "pd.crosstab(user_sample['income_group'], user_sample['region'], dropna = False)"
   ]
  },
  {
   "cell_type": "markdown",
   "id": "39a4909a-c3c8-47a0-97c9-0aefa3848c23",
   "metadata": {},
   "source": [
    "### Age Groups"
   ]
  },
  {
   "cell_type": "code",
   "execution_count": null,
   "id": "f529ff45-f3d4-497a-a3e7-95e64c03cb0d",
   "metadata": {},
   "outputs": [],
   "source": [
    "plt.figure(figsize=(10, 6))\n",
    "# Plot the histogram bars\n",
    "sns.histplot(data=user_sample, x='region', hue='age_group', multiple='dodge', shrink=.8, alpha=1)\n",
    "# Overlay a grid behind the bars\n",
    "plt.gca().set_axisbelow(True)  # Ensure grid is behind bars\n",
    "plt.grid(axis='y', color='gray', linestyle='dashed')\n",
    "# General formatting\n",
    "plt.title('Distribution of Customer Age Groups by Region')\n",
    "plt.ylabel('No. of Customers')\n",
    "plt.xlabel('Region')\n",
    "# Save and show\n",
    "plt.savefig(os.path.join(path, '04 Analysis', 'Visualizations', 'instacart_age_by_region.png'), bbox_inches = 'tight')\n",
    "plt.show()"
   ]
  },
  {
   "cell_type": "code",
   "execution_count": null,
   "id": "ebe891e9-9db6-4e7f-b42f-243b52601110",
   "metadata": {},
   "outputs": [],
   "source": [
    "# Check above graph using crosstab\n",
    "pd.crosstab(user_sample['age_group'], user_sample['region'], dropna = False)"
   ]
  },
  {
   "cell_type": "markdown",
   "id": "2040d8c8-0e63-46b2-9d73-d99484f227e4",
   "metadata": {},
   "source": [
    "### Dependents"
   ]
  },
  {
   "cell_type": "code",
   "execution_count": null,
   "id": "12c8dcdf-83d7-489d-99c4-2c08c8a8fe88",
   "metadata": {},
   "outputs": [],
   "source": [
    "plt.figure(figsize=(10, 6))\n",
    "# Plot the histogram bars\n",
    "sns.histplot(data=user_sample, x='region', hue='dependents_flag', multiple='dodge', shrink=.8, alpha=1)\n",
    "# Overlay a grid behind the bars\n",
    "plt.gca().set_axisbelow(True)  # Ensure grid is behind bars\n",
    "plt.grid(axis='y', color='gray', linestyle='dashed')\n",
    "# General formatting\n",
    "plt.title('Distribution of Customers with and without Dependents by Region')\n",
    "plt.ylabel('No. of Customers')\n",
    "plt.xlabel('Region')\n",
    "# Save and show\n",
    "plt.savefig(os.path.join(path, '04 Analysis', 'Visualizations', 'instacart_dependents_by_region.png'), bbox_inches = 'tight')\n",
    "plt.show()"
   ]
  },
  {
   "cell_type": "code",
   "execution_count": null,
   "id": "101337e4-c834-4175-9950-9fbf0f619652",
   "metadata": {},
   "outputs": [],
   "source": [
    "# Check above graph using crosstab\n",
    "pd.crosstab(user_sample['dependents_flag'], user_sample['region'], dropna = False)"
   ]
  },
  {
   "cell_type": "markdown",
   "id": "32e3e27f-0fc4-4500-bead-332534f37986",
   "metadata": {},
   "source": [
    "### Profiles by Department Sales"
   ]
  },
  {
   "cell_type": "markdown",
   "id": "45fd543c-60aa-44bc-9c5a-a21029190ebd",
   "metadata": {},
   "source": [
    "### Income Groups"
   ]
  },
  {
   "cell_type": "code",
   "execution_count": null,
   "id": "5dd4f42d-f66b-4dac-9cf5-6f95a040f82d",
   "metadata": {},
   "outputs": [],
   "source": [
    "Income Groups"
   ]
  },
  {
   "cell_type": "code",
   "execution_count": null,
   "id": "3fd1c598-8f9d-47de-84d0-1522c10b7dff",
   "metadata": {},
   "outputs": [],
   "source": [
    "# Group by income_group and department, count occurrences, and sort\n",
    "income_department_counts = full_data.groupby(['income_group', 'department']).size().reset_index(name='counts')\n",
    "income_department_counts.sort_values(by=['income_group', 'counts'], ascending=False, inplace=True)\n",
    "\n",
    "# Create subplots and color scheme\n",
    "fig, axs = plt.subplots(3, 1, figsize=(12, 18))\n",
    "colors = plt.cm.viridis(np.linspace(0, 2, 8))  # Sets colour palette\n",
    "\n",
    "# Define the desired order of income groups\n",
    "desired_order = ['High', 'Middle', 'Low']\n",
    "\n",
    "# Iterate over each income group and create a horizontal bar chart\n",
    "for i, income_group in enumerate(desired_order):\n",
    "    income_data = income_department_counts[income_department_counts['income_group'] == income_group].head(5)\n",
    "    ax = axs[i]\n",
    "    ax.barh(income_data['department'], income_data['counts'], color=colors, zorder=2)\n",
    "    ax.set_title(f'Top 5 Departments for {income_group}-earners')\n",
    "    ax.set_xlabel('Total Products Sold')\n",
    "    ax.set_xlim(0, 4500000) # Keep x-axis range consistent for comparisons\n",
    "    ax.ticklabel_format(style='plain', axis='x')\n",
    "    ax.set_ylabel('')\n",
    "    ax.invert_yaxis()  # Invert y-axis to have the highest count at the top\n",
    "    ax.grid(axis='x', color='gray', linestyle='dashed')\n",
    "\n",
    "plt.tight_layout()  # Adjust layout to prevent overlapping\n",
    "plt.savefig(os.path.join(path, '04 Analysis', 'Visualizations', 'instacart_top_departments_by_income_group.png'), bbox_inches = 'tight')\n",
    "plt.show()"
   ]
  },
  {
   "cell_type": "markdown",
   "id": "66127f47-5a4d-4e30-b3c9-4cab00ff9295",
   "metadata": {},
   "source": [
    "### Age Groups"
   ]
  },
  {
   "cell_type": "code",
   "execution_count": null,
   "id": "c10d522e-34a6-494d-9be0-b76fb36f44c4",
   "metadata": {},
   "outputs": [],
   "source": [
    "# Group by age_group and department, count occurrences, and sort\n",
    "age_department_counts = full_data.groupby(['age_group', 'department']).size().reset_index(name='counts')\n",
    "age_department_counts.sort_values(by=['age_group', 'counts'], ascending=False, inplace=True)\n",
    "\n",
    "# Create subplots and color scheme\n",
    "fig, axs = plt.subplots(5, 1, figsize=(12, 24))\n",
    "colors = plt.cm.viridis(np.linspace(0, 1, 6))  # Sets colour palette\n",
    "\n",
    "# Define the desired order of age groups\n",
    "desired_age_order = ['Elderly', 'Senior', 'Middle Age', 'Adult', 'Young Adult']\n",
    "\n",
    "# Iterate over each age group and create a horizontal bar chart\n",
    "for i, age_group in enumerate(desired_age_order):\n",
    "    age_data = age_department_counts[age_department_counts['age_group'] == age_group].head(6)\n",
    "    ax = axs[i]\n",
    "    ax.barh(age_data['department'], age_data['counts'], color=colors, zorder=2)\n",
    "    ax.set_title(f'Top 5 Departments for {age_group}s')\n",
    "    ax.set_xlabel('Total Products Sold')\n",
    "    ax.set_xlim(0, 3500000) # Keep x-axis range consistent for comparisons\n",
    "    ax.ticklabel_format(style='plain', axis='x')\n",
    "    ax.set_ylabel('')\n",
    "    ax.invert_yaxis()  # Invert y-axis to have the highest count at the top\n",
    "    ax.grid(axis='x', color='gray', linestyle='dashed')\n",
    "\n",
    "plt.tight_layout()  # Adjust layout to prevent overlapping\n",
    "plt.savefig(os.path.join(path, '04 Analysis', 'Visualizations', 'instacart_top_departments_by_age_group.png'), bbox_inches = 'tight')\n",
    "plt.show()"
   ]
  },
  {
   "cell_type": "markdown",
   "id": "5fa48e38-ee1a-49ec-bb61-84aa01157b81",
   "metadata": {},
   "source": [
    "### Dependents"
   ]
  },
  {
   "cell_type": "code",
   "execution_count": null,
   "id": "730163aa-8e26-4d50-a39d-4e9fcdd0ae8b",
   "metadata": {},
   "outputs": [],
   "source": [
    "# Group by dependents_flag and department, count occurrences, and sort\n",
    "dependents_department_counts = full_data.groupby(['dependents_flag', 'department']).size().reset_index(name='counts')\n",
    "dependents_department_counts.sort_values(by=['dependents_flag', 'counts'], ascending=False, inplace=True)\n",
    "\n",
    "# Create subplots and color scheme\n",
    "fig, axs = plt.subplots(2, 1, figsize=(12, 12))\n",
    "colors = plt.cm.viridis(np.linspace(0, 1, 5))  # Sets colour palette\n",
    "\n",
    "# Define the desired order of age groups\n",
    "dependents_order = ['Has Dependents', 'No Dependents']\n",
    "\n",
    "# Iterate over both dependants_flags and create a horizontal bar chart\n",
    "for i, dependents_status in enumerate(dependents_order):\n",
    "    dependents_data = dependents_department_counts[dependents_department_counts['dependents_flag'] == dependents_status].head(5)\n",
    "    ax = axs[i]\n",
    "    ax.barh(dependents_data['department'], dependents_data['counts'], color=colors, zorder=2)\n",
    "    ax.set_title(f'Top 5 Departments for {dependents_status}')\n",
    "    ax.set_xlabel('Total Products Sold')\n",
    "    ax.set_xlim(0, 7000000) # Keep x-axis range consistent for comparisons\n",
    "    ax.ticklabel_format(style='plain', axis='x')\n",
    "    ax.set_ylabel('')\n",
    "    ax.invert_yaxis()  # Invert y-axis to have the highest count at the top\n",
    "    ax.grid(axis='x', color='gray', linestyle='dashed')\n",
    "\n",
    "plt.tight_layout()  # Adjust layout to prevent overlapping\n",
    "plt.savefig(os.path.join(path, '04 Analysis', 'Visualizations', 'instacart_top_departments_by_dependents.png'), bbox_inches = 'tight')\n",
    "plt.show()"
   ]
  },
  {
   "cell_type": "markdown",
   "id": "d233d84d-8c4e-4c6b-9168-1f8b23d47f97",
   "metadata": {},
   "source": [
    "### Visualisations"
   ]
  },
  {
   "cell_type": "code",
   "execution_count": null,
   "id": "0bbac21c-bda1-495c-92dc-a7df7378a4b1",
   "metadata": {},
   "outputs": [],
   "source": [
    "# Save pie chart for age groups\n",
    "plt.savefig(os.path.join(path, '04 Analysis', 'Visualizations', 'customers_age_groups_pie.png'), bbox_inches='tight')"
   ]
  },
  {
   "cell_type": "code",
   "execution_count": null,
   "id": "e09d0461-f926-4694-b544-041f89192bf9",
   "metadata": {},
   "outputs": [],
   "source": [
    "# Save pie chart for income groups\n",
    "plt.savefig(os.path.join(path, '04 Analysis', 'Visualizations', 'customers_income_groups_pie.png'), bbox_inches='tight')\n"
   ]
  },
  {
   "cell_type": "code",
   "execution_count": null,
   "id": "8afbd8c6-dc35-4285-b275-1c8a135439b5",
   "metadata": {},
   "outputs": [],
   "source": [
    "# Save pie chart for dependents\n",
    "plt.savefig(os.path.join(path, '04 Analysis', 'Visualizations', 'customers_dependents_pie.png'), bbox_inches='tight')\n"
   ]
  },
  {
   "cell_type": "code",
   "execution_count": null,
   "id": "92141878-cadf-4edc-af12-0f89b1be13e3",
   "metadata": {},
   "outputs": [],
   "source": [
    "# Save histogram for income groups by region\n",
    "plt.savefig(os.path.join(path, '04 Analysis', 'Visualizations', 'instacart_income_by_region.png'), bbox_inches='tight')\n"
   ]
  },
  {
   "cell_type": "code",
   "execution_count": null,
   "id": "d0de0ad8-e87e-4daa-b871-7d683e766c1a",
   "metadata": {},
   "outputs": [],
   "source": [
    "# Save histogram for age groups by region\n",
    "plt.savefig(os.path.join(path, '04 Analysis', 'Visualizations', 'instacart_age_by_region.png'), bbox_inches='tight')\n"
   ]
  },
  {
   "cell_type": "code",
   "execution_count": null,
   "id": "4329a47f-c104-43f8-aa97-b37a2e380c22",
   "metadata": {},
   "outputs": [],
   "source": [
    "# Save histogram for dependents by region\n",
    "plt.savefig(os.path.join(path, '04 Analysis', 'Visualizations', 'instacart_dependents_by_region.png'), bbox_inches='tight')\n"
   ]
  },
  {
   "cell_type": "code",
   "execution_count": null,
   "id": "c1554fc9-3c4e-4179-87cc-4c58fa01c2b2",
   "metadata": {},
   "outputs": [],
   "source": [
    "# Save horizontal bar charts for top departments by income group\n",
    "plt.savefig(os.path.join(path, '04 Analysis', 'Visualizations', 'instacart_top_departments_by_income_group.png'), bbox_inches='tight')\n"
   ]
  },
  {
   "cell_type": "code",
   "execution_count": null,
   "id": "607e1333-3caa-4768-8f21-1c1e2d2f7873",
   "metadata": {},
   "outputs": [],
   "source": [
    "# Save horizontal bar charts for top departments by dependents\n",
    "plt.savefig(os.path.join(path, '04 Analysis', 'Visualizations', 'instacart_top_departments_by_dependents.png'), bbox_inches='tight')"
   ]
  },
  {
   "cell_type": "markdown",
   "id": "172e407e-709e-41b5-a726-866cabc3c406",
   "metadata": {},
   "source": [
    "### Export Datafram"
   ]
  },
  {
   "cell_type": "code",
   "execution_count": null,
   "id": "ee690526-4a3b-4b39-96e5-2554af443d4a",
   "metadata": {},
   "outputs": [],
   "source": [
    "# Tidy up the data\n",
    "final_dataset = high_activity_customers.drop(columns='exclusion_flag')"
   ]
  },
  {
   "cell_type": "code",
   "execution_count": null,
   "id": "7baea9eb-81d4-46ab-87d6-17175ecb8d60",
   "metadata": {},
   "outputs": [],
   "source": [
    "# Export the final dataset\n",
    "final_dataset.to_pickle(os.path.join(path, '02 Data', 'Prepared Data', 'final_customers_dataset.pkl'))\n"
   ]
  }
 ],
 "metadata": {
  "kernelspec": {
   "display_name": "Python 3 (ipykernel)",
   "language": "python",
   "name": "python3"
  },
  "language_info": {
   "codemirror_mode": {
    "name": "ipython",
    "version": 3
   },
   "file_extension": ".py",
   "mimetype": "text/x-python",
   "name": "python",
   "nbconvert_exporter": "python",
   "pygments_lexer": "ipython3",
   "version": "3.11.7"
  }
 },
 "nbformat": 4,
 "nbformat_minor": 5
}
